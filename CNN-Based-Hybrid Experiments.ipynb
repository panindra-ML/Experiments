{
  "nbformat": 4,
  "nbformat_minor": 0,
  "metadata": {
    "colab": {
      "name": "CNN-text.ipynb",
      "provenance": [],
      "collapsed_sections": []
    },
    "kernelspec": {
      "name": "python3",
      "display_name": "Python 3"
    },
    "language_info": {
      "name": "python"
    },
    "accelerator": "GPU",
    "gpuClass": "standard"
  },
  "cells": [
    {
      "cell_type": "code",
      "source": [
        "from google.colab import drive\n",
        "drive.mount('/content/drive')"
      ],
      "metadata": {
        "colab": {
          "base_uri": "https://localhost:8080/"
        },
        "id": "Q7g-qmMk1YGs",
        "outputId": "ebf07251-e8ce-4419-a70a-7f6e1b6f40fe"
      },
      "execution_count": 1,
      "outputs": [
        {
          "output_type": "stream",
          "name": "stdout",
          "text": [
            "Drive already mounted at /content/drive; to attempt to forcibly remount, call drive.mount(\"/content/drive\", force_remount=True).\n"
          ]
        }
      ]
    },
    {
      "cell_type": "markdown",
      "source": [
        "### importing libraries"
      ],
      "metadata": {
        "id": "zBQwc43Q1htp"
      }
    },
    {
      "cell_type": "code",
      "source": [
        "import numpy as np\n",
        "import pandas as pd\n",
        "import matplotlib.pyplot as plt\n",
        "import tensorflow as tf\n",
        "!pip install transformers\n",
        "import transformers"
      ],
      "metadata": {
        "colab": {
          "base_uri": "https://localhost:8080/"
        },
        "id": "1o4cZQM51tXc",
        "outputId": "41fa257c-c048-4545-aea2-ab34c7016c03"
      },
      "execution_count": 2,
      "outputs": [
        {
          "output_type": "stream",
          "name": "stdout",
          "text": [
            "Looking in indexes: https://pypi.org/simple, https://us-python.pkg.dev/colab-wheels/public/simple/\n",
            "Requirement already satisfied: transformers in /usr/local/lib/python3.7/dist-packages (4.21.1)\n",
            "Requirement already satisfied: packaging>=20.0 in /usr/local/lib/python3.7/dist-packages (from transformers) (21.3)\n",
            "Requirement already satisfied: tokenizers!=0.11.3,<0.13,>=0.11.1 in /usr/local/lib/python3.7/dist-packages (from transformers) (0.12.1)\n",
            "Requirement already satisfied: numpy>=1.17 in /usr/local/lib/python3.7/dist-packages (from transformers) (1.21.6)\n",
            "Requirement already satisfied: pyyaml>=5.1 in /usr/local/lib/python3.7/dist-packages (from transformers) (6.0)\n",
            "Requirement already satisfied: filelock in /usr/local/lib/python3.7/dist-packages (from transformers) (3.8.0)\n",
            "Requirement already satisfied: huggingface-hub<1.0,>=0.1.0 in /usr/local/lib/python3.7/dist-packages (from transformers) (0.8.1)\n",
            "Requirement already satisfied: regex!=2019.12.17 in /usr/local/lib/python3.7/dist-packages (from transformers) (2022.6.2)\n",
            "Requirement already satisfied: requests in /usr/local/lib/python3.7/dist-packages (from transformers) (2.23.0)\n",
            "Requirement already satisfied: tqdm>=4.27 in /usr/local/lib/python3.7/dist-packages (from transformers) (4.64.0)\n",
            "Requirement already satisfied: importlib-metadata in /usr/local/lib/python3.7/dist-packages (from transformers) (4.12.0)\n",
            "Requirement already satisfied: typing-extensions>=3.7.4.3 in /usr/local/lib/python3.7/dist-packages (from huggingface-hub<1.0,>=0.1.0->transformers) (4.1.1)\n",
            "Requirement already satisfied: pyparsing!=3.0.5,>=2.0.2 in /usr/local/lib/python3.7/dist-packages (from packaging>=20.0->transformers) (3.0.9)\n",
            "Requirement already satisfied: zipp>=0.5 in /usr/local/lib/python3.7/dist-packages (from importlib-metadata->transformers) (3.8.1)\n",
            "Requirement already satisfied: urllib3!=1.25.0,!=1.25.1,<1.26,>=1.21.1 in /usr/local/lib/python3.7/dist-packages (from requests->transformers) (1.24.3)\n",
            "Requirement already satisfied: idna<3,>=2.5 in /usr/local/lib/python3.7/dist-packages (from requests->transformers) (2.10)\n",
            "Requirement already satisfied: certifi>=2017.4.17 in /usr/local/lib/python3.7/dist-packages (from requests->transformers) (2022.6.15)\n",
            "Requirement already satisfied: chardet<4,>=3.0.2 in /usr/local/lib/python3.7/dist-packages (from requests->transformers) (3.0.4)\n"
          ]
        }
      ]
    },
    {
      "cell_type": "markdown",
      "source": [
        "### Reading the dataset"
      ],
      "metadata": {
        "id": "4rJNbO772CiG"
      }
    },
    {
      "cell_type": "code",
      "source": [
        "file = \"./drive/MyDrive/train.csv\"\n",
        "df_tweet = pd.read_csv(file)\n",
        "df_tweet.shape"
      ],
      "metadata": {
        "colab": {
          "base_uri": "https://localhost:8080/"
        },
        "id": "NMu_Blw3165B",
        "outputId": "d7567a42-4fc3-4756-ba28-ecae01b9f358"
      },
      "execution_count": 3,
      "outputs": [
        {
          "output_type": "execute_result",
          "data": {
            "text/plain": [
              "(29992, 2)"
            ]
          },
          "metadata": {},
          "execution_count": 3
        }
      ]
    },
    {
      "cell_type": "code",
      "source": [
        "mapper = {\n",
        "    \"Anxious\": 0,\n",
        "    \"Normal\": 1,\n",
        "    \"Stressed\": 2,\n",
        "    \"Lonely\": 3\n",
        "}\n",
        "df_tweet[\"labels\"] = df_tweet['labels'].map(mapper)"
      ],
      "metadata": {
        "id": "sGQICSee2VpB"
      },
      "execution_count": 4,
      "outputs": []
    },
    {
      "cell_type": "markdown",
      "source": [
        "### Preparing data for modelling"
      ],
      "metadata": {
        "id": "8cJzBzgt2_Nj"
      }
    },
    {
      "cell_type": "code",
      "source": [
        "from tensorflow.keras import Sequential\n",
        "from tensorflow.keras.layers import Conv2D, MaxPool2D, Flatten, GlobalAveragePooling2D, Dense, Dropout\n",
        "from transformers import TFBertModel, AutoTokenizer\n",
        "from sklearn.model_selection import train_test_split\n",
        "\n",
        "df_train, df_test = train_test_split(df_tweet,train_size=0.75,random_state=3)\n",
        "\n",
        "tc = AutoTokenizer.from_pretrained(\"bert-base-uncased\",padding_side='left',truncation_side='right')\n",
        "bert_model = TFBertModel.from_pretrained(\"./drive/MyDrive/tuned-model\")\n",
        "\n",
        "def num_batches(total,batch_size):\n",
        "  if total % batch_size == 0:\n",
        "    return total // batch_size\n",
        "  else:\n",
        "    return total // batch_size + 1\n",
        "\n",
        "def prepare_sequences(texts,labels,seq_len,batch_size,tokenizer=tc,model=bert_model):\n",
        "  total = len(texts)\n",
        "  batches = num_batches(total,batch_size)\n",
        "  while True:\n",
        "    for b in range(batches):\n",
        "      if total % batch_size == 0 or b < batches -1 :\n",
        "        tokens = tokenizer(texts[b*batch_size:b*batch_size + batch_size],max_length=seq_len,\n",
        "                          padding=True, truncation=True,return_tensors=\"tf\")\n",
        "        embeddings = model(tokens)\n",
        "        lbl = labels[b*batch_size:b*batch_size + batch_size]\n",
        "        emb = embeddings.last_hidden_state.numpy()\n",
        "        #print(emb.shape)\n",
        "        yield emb.reshape(emb.shape[0],emb.shape[1],emb.shape[2],1) , lbl.values\n",
        "      else:\n",
        "\n",
        "        tokens = tokenizer(texts[b*batch_size:],max_length=seq_len,\n",
        "                          padding=True, truncation=True,return_tensors=\"tf\")\n",
        "        embeddings = model(tokens)\n",
        "        lbl = labels[b*batch_size:]\n",
        "        emb = embeddings.last_hidden_state.numpy()\n",
        "        yield emb.reshape(emb.shape[0],emb.shape[1],emb.shape[2],1), lbl.values\n",
        "\n",
        "\n",
        "\n",
        "def prepare_full_input(texts,seq_len,batch_size,tokenizer=tc,model=bert_model):\n",
        "  total = len(texts)\n",
        "  batches = num_batches(total,batch_size)\n",
        "  res = np.zeros((total,25,768))\n",
        "  for b in range(batches):\n",
        "    if total % batch_size == 0 or b < batches -1 :\n",
        "      tokens = tokenizer(texts[b*batch_size:b*batch_size + batch_size],max_length=seq_len,\n",
        "                        padding=True, truncation=True,return_tensors=\"tf\")\n",
        "      embeddings = model(tokens)\n",
        "      res[b*batch_size:b*batch_size + batch_size,:,:] = embeddings.last_hidden_state\n",
        "    \n",
        "    else:\n",
        "      tokens = tokenizer(texts[b*batch_size:],max_length=seq_len,\n",
        "                        padding=True, truncation=True,return_tensors=\"tf\")\n",
        "      embeddings = model(tokens)\n",
        "      res[b*batch_size:,:,:] = embeddings.last_hidden_state\n",
        "  \n",
        "  \n",
        "  return res.reshape(res.shape[0],res.shape[1],res.shape[2],1)\n",
        "  \n",
        "\n"
      ],
      "metadata": {
        "colab": {
          "base_uri": "https://localhost:8080/"
        },
        "id": "ZvULvVmR27jw",
        "outputId": "517bc66d-2d83-4548-f0d4-eb0948649e76"
      },
      "execution_count": 5,
      "outputs": [
        {
          "output_type": "stream",
          "name": "stderr",
          "text": [
            "All model checkpoint layers were used when initializing TFBertModel.\n",
            "\n",
            "All the layers of TFBertModel were initialized from the model checkpoint at ./drive/MyDrive/tuned-model.\n",
            "If your task is similar to the task the model of the checkpoint was trained on, you can already use TFBertModel for predictions without further training.\n"
          ]
        }
      ]
    },
    {
      "cell_type": "markdown",
      "source": [
        "### Building the model"
      ],
      "metadata": {
        "id": "pN0a7igT7Pr_"
      }
    },
    {
      "cell_type": "code",
      "source": [
        "model = Sequential()\n",
        "model.add(Conv2D(64,(3,3),input_shape=(25,768,1),activation=\"relu\"))\n",
        "model.add(Flatten())\n",
        "model.add(Dropout(0.2))\n",
        "model.add(Dense(4,activation=\"softmax\"))\n",
        "\n",
        "model.compile(loss=\"sparse_categorical_crossentropy\",metrics=\"categorical_accuracy\",optimizer=\"adam\")\n",
        "model.summary()"
      ],
      "metadata": {
        "colab": {
          "base_uri": "https://localhost:8080/"
        },
        "id": "gp_CAYDs7Mb3",
        "outputId": "7bd23658-c14b-4dcc-96ff-690a4d0d0536"
      },
      "execution_count": 40,
      "outputs": [
        {
          "output_type": "stream",
          "name": "stdout",
          "text": [
            "Model: \"sequential_19\"\n",
            "_________________________________________________________________\n",
            " Layer (type)                Output Shape              Param #   \n",
            "=================================================================\n",
            " conv2d (Conv2D)             (None, 23, 766, 64)       640       \n",
            "                                                                 \n",
            " flatten_10 (Flatten)        (None, 1127552)           0         \n",
            "                                                                 \n",
            " dropout_201 (Dropout)       (None, 1127552)           0         \n",
            "                                                                 \n",
            " dense_16 (Dense)            (None, 4)                 4510212   \n",
            "                                                                 \n",
            "=================================================================\n",
            "Total params: 4,510,852\n",
            "Trainable params: 4,510,852\n",
            "Non-trainable params: 0\n",
            "_________________________________________________________________\n"
          ]
        }
      ]
    },
    {
      "cell_type": "code",
      "source": [
        "train_texts = df_train['tweets'].tolist()\n",
        "val_texts = df_test['tweets'].tolist()\n",
        "train_labels = df_train['labels']\n",
        "val_labels = df_test['labels']\n",
        "train_gen = prepare_sequences(train_texts,train_labels,25,300)\n",
        "val_gen = prepare_sequences(val_texts,val_labels,25,300)"
      ],
      "metadata": {
        "id": "VZzPvFuu9QwQ"
      },
      "execution_count": 41,
      "outputs": []
    },
    {
      "cell_type": "code",
      "source": [
        "steps_per_epochs = num_batches(len(train_texts),300)\n",
        "val_steps = num_batches(len(val_texts),300)\n",
        "history = model.fit_generator(train_gen,steps_per_epoch=steps_per_epochs, validation_data=val_gen,\n",
        "                    validation_steps=val_steps,epochs=10)"
      ],
      "metadata": {
        "colab": {
          "base_uri": "https://localhost:8080/"
        },
        "id": "BaVkaxYH_W6u",
        "outputId": "98a6e202-b844-408e-851b-ee7224b7e1fa"
      },
      "execution_count": 42,
      "outputs": [
        {
          "output_type": "stream",
          "name": "stderr",
          "text": [
            "/usr/local/lib/python3.7/dist-packages/ipykernel_launcher.py:4: UserWarning: `Model.fit_generator` is deprecated and will be removed in a future version. Please use `Model.fit`, which supports generators.\n",
            "  after removing the cwd from sys.path.\n"
          ]
        },
        {
          "output_type": "stream",
          "name": "stdout",
          "text": [
            "Epoch 1/10\n",
            "75/75 [==============================] - 69s 908ms/step - loss: 1.9830 - categorical_accuracy: 0.2938 - val_loss: 0.6545 - val_categorical_accuracy: 0.1588\n",
            "Epoch 2/10\n",
            "75/75 [==============================] - 67s 906ms/step - loss: 0.5593 - categorical_accuracy: 0.2963 - val_loss: 0.6624 - val_categorical_accuracy: 0.1046\n",
            "Epoch 3/10\n",
            "75/75 [==============================] - 67s 906ms/step - loss: 0.4975 - categorical_accuracy: 0.2935 - val_loss: 0.6642 - val_categorical_accuracy: 0.1848\n",
            "Epoch 4/10\n",
            "75/75 [==============================] - 67s 904ms/step - loss: 0.4599 - categorical_accuracy: 0.2915 - val_loss: 0.7064 - val_categorical_accuracy: 0.1595\n",
            "Epoch 5/10\n",
            "75/75 [==============================] - 67s 908ms/step - loss: 0.4429 - categorical_accuracy: 0.2899 - val_loss: 0.7396 - val_categorical_accuracy: 0.1507\n",
            "Epoch 6/10\n",
            "75/75 [==============================] - 67s 906ms/step - loss: 0.4368 - categorical_accuracy: 0.2877 - val_loss: 0.7533 - val_categorical_accuracy: 0.1532\n",
            "Epoch 7/10\n",
            "75/75 [==============================] - 67s 904ms/step - loss: 0.4595 - categorical_accuracy: 0.2903 - val_loss: 0.6971 - val_categorical_accuracy: 0.2037\n",
            "Epoch 8/10\n",
            "75/75 [==============================] - 67s 908ms/step - loss: 0.4284 - categorical_accuracy: 0.2815 - val_loss: 0.7235 - val_categorical_accuracy: 0.3003\n",
            "Epoch 9/10\n",
            "75/75 [==============================] - 67s 904ms/step - loss: 0.3950 - categorical_accuracy: 0.2826 - val_loss: 0.7656 - val_categorical_accuracy: 0.2426\n",
            "Epoch 10/10\n",
            "75/75 [==============================] - 67s 905ms/step - loss: 0.3898 - categorical_accuracy: 0.2843 - val_loss: 0.7899 - val_categorical_accuracy: 0.2039\n"
          ]
        }
      ]
    },
    {
      "cell_type": "code",
      "source": [
        "plt.figure(figsize=(10,8))\n",
        "\n",
        "\n",
        "plt.subplot(1,2,1)\n",
        "plt.plot(range(1,11),history.history['loss'])\n",
        "plt.plot(range(1,11),history.history['val_loss'])\n",
        "plt.xlabel('epochs')\n",
        "plt.ylabel('loss')\n",
        "\n",
        "plt.subplot(1,2,2)\n",
        "plt.plot(range(1,11),history.history['categorical_accuracy'])\n",
        "plt.plot(range(1,11),history.history['val_categorical_accuracy'])\n",
        "plt.xlabel('epochs')\n",
        "plt.ylabel('accuracy')\n"
      ],
      "metadata": {
        "colab": {
          "base_uri": "https://localhost:8080/",
          "height": 514
        },
        "id": "2UeudfXYKOhv",
        "outputId": "6693ce94-6499-4e5e-e61a-6450955ba0bb"
      },
      "execution_count": 43,
      "outputs": [
        {
          "output_type": "execute_result",
          "data": {
            "text/plain": [
              "Text(0, 0.5, 'accuracy')"
            ]
          },
          "metadata": {},
          "execution_count": 43
        },
        {
          "output_type": "display_data",
          "data": {
            "text/plain": [
              "<Figure size 720x576 with 2 Axes>"
            ],
            "image/png": "[encoded data removed]"
          },
          "metadata": {
            "needs_background": "light"
          }
        }
      ]
    },
    {
      "cell_type": "code",
      "source": [
        "test_data = prepare_full_input(val_texts,25,300)"
      ],
      "metadata": {
        "id": "aBgitwP6_lj4"
      },
      "execution_count": 44,
      "outputs": []
    },
    {
      "cell_type": "code",
      "source": [
        "predictions = model.predict(test_data)\n",
        "y_pred = np.argmax(predictions,axis=1)\n",
        "\n",
        "\n",
        "from sklearn.metrics import confusion_matrix, classification_report\n",
        "\n",
        "cf = confusion_matrix(val_labels, y_pred)\n",
        "print(cf)"
      ],
      "metadata": {
        "colab": {
          "base_uri": "https://localhost:8080/"
        },
        "id": "Ym-ZittYBnpY",
        "outputId": "cc18ff53-7662-4298-d5ed-dcd714b77c0b"
      },
      "execution_count": 45,
      "outputs": [
        {
          "output_type": "stream",
          "name": "stdout",
          "text": [
            "[[ 635   57   22 1398]\n",
            " [  32 1828   34   63]\n",
            " [  32   87 1539   25]\n",
            " [ 830   20   13  883]]\n"
          ]
        }
      ]
    },
    {
      "cell_type": "code",
      "source": [
        "print(classification_report(val_labels,y_pred))"
      ],
      "metadata": {
        "colab": {
          "base_uri": "https://localhost:8080/"
        },
        "id": "tKsgbGJkGhZ5",
        "outputId": "f6d22b9d-f3a8-475d-dd7d-3947b57348a1"
      },
      "execution_count": 46,
      "outputs": [
        {
          "output_type": "stream",
          "name": "stdout",
          "text": [
            "              precision    recall  f1-score   support\n",
            "\n",
            "           0       0.42      0.30      0.35      2112\n",
            "           1       0.92      0.93      0.93      1957\n",
            "           2       0.96      0.91      0.94      1683\n",
            "           3       0.37      0.51      0.43      1746\n",
            "\n",
            "    accuracy                           0.65      7498\n",
            "   macro avg       0.67      0.66      0.66      7498\n",
            "weighted avg       0.66      0.65      0.65      7498\n",
            "\n"
          ]
        }
      ]
    },
    {
      "cell_type": "code",
      "source": [
        "from tensorflow.keras.layers import Bidirectional, LSTM, Conv1D, MaxPool1D,TimeDistributed, GlobalAveragePooling1D\n",
        "\n",
        "cnn_lstm_base = Sequential()\n",
        "cnn_lstm_base.add(TimeDistributed(Conv1D(64,3,padding='same',activation=\"relu\"),input_shape=(25,768,1)))\n",
        "cnn_lstm_base.add(TimeDistributed(MaxPool1D(2)))\n",
        "cnn_lstm_base.add(TimeDistributed(Conv1D(64,3,padding='same',activation=\"relu\")))\n",
        "cnn_lstm_base.add(TimeDistributed(MaxPool1D(2)))\n",
        "cnn_lstm_base.add(TimeDistributed(Flatten()))\n",
        "cnn_lstm_base.add(Bidirectional(LSTM(256)))\n",
        "cnn_lstm_base.add(Dropout(0.2))\n",
        "cnn_lstm_base.add(Dense(4,activation=\"softmax\"))\n",
        "\n",
        "\n",
        "cnn_lstm_base.compile(loss=\"sparse_categorical_crossentropy\",metrics=\"categorical_accuracy\",optimizer=\"adam\")\n",
        "cnn_lstm_base.summary()"
      ],
      "metadata": {
        "colab": {
          "base_uri": "https://localhost:8080/"
        },
        "id": "yFm9BsMKbsKJ",
        "outputId": "84928e70-e949-4757-d3b1-5e779afd00cf"
      },
      "execution_count": 29,
      "outputs": [
        {
          "output_type": "stream",
          "name": "stdout",
          "text": [
            "Model: \"sequential_14\"\n",
            "_________________________________________________________________\n",
            " Layer (type)                Output Shape              Param #   \n",
            "=================================================================\n",
            " time_distributed_60 (TimeDi  (None, 25, 768, 64)      256       \n",
            " stributed)                                                      \n",
            "                                                                 \n",
            " time_distributed_61 (TimeDi  (None, 25, 384, 64)      0         \n",
            " stributed)                                                      \n",
            "                                                                 \n",
            " time_distributed_62 (TimeDi  (None, 25, 384, 64)      12352     \n",
            " stributed)                                                      \n",
            "                                                                 \n",
            " time_distributed_63 (TimeDi  (None, 25, 192, 64)      0         \n",
            " stributed)                                                      \n",
            "                                                                 \n",
            " time_distributed_64 (TimeDi  (None, 25, 12288)        0         \n",
            " stributed)                                                      \n",
            "                                                                 \n",
            " bidirectional_11 (Bidirecti  (None, 512)              25692160  \n",
            " onal)                                                           \n",
            "                                                                 \n",
            " dropout_159 (Dropout)       (None, 512)               0         \n",
            "                                                                 \n",
            " dense_11 (Dense)            (None, 4)                 2052      \n",
            "                                                                 \n",
            "=================================================================\n",
            "Total params: 25,706,820\n",
            "Trainable params: 25,706,820\n",
            "Non-trainable params: 0\n",
            "_________________________________________________________________\n"
          ]
        }
      ]
    },
    {
      "cell_type": "markdown",
      "source": [
        "### CNN LSTM with untuned BERT weights"
      ],
      "metadata": {
        "id": "ch51Ld0GhpAG"
      }
    },
    {
      "cell_type": "code",
      "source": [
        "train_texts = df_train['tweets'].tolist()\n",
        "val_texts = df_test['tweets'].tolist()\n",
        "train_labels = df_train['labels']\n",
        "val_labels = df_test['labels']\n",
        "\n",
        "base_bert = TFBertModel.from_pretrained(\"bert-base-uncased\")\n",
        "\n",
        "train_gen = prepare_sequences(train_texts,train_labels,25,300,model=base_bert)\n",
        "val_gen = prepare_sequences(val_texts,val_labels,25,300,model=base_bert)\n",
        "\n",
        "\n",
        "\n",
        "steps_per_epochs = num_batches(len(train_texts),500)\n",
        "val_steps = num_batches(len(val_texts),500)\n",
        "history = cnn_lstm_base.fit_generator(train_gen,steps_per_epoch=steps_per_epochs, validation_data=val_gen,\n",
        "                    validation_steps=val_steps,epochs=10)"
      ],
      "metadata": {
        "colab": {
          "base_uri": "https://localhost:8080/"
        },
        "id": "_Oy7jDAjceDK",
        "outputId": "dbf202eb-ecbc-4824-8c02-0b7181dae201"
      },
      "execution_count": 30,
      "outputs": [
        {
          "output_type": "stream",
          "name": "stderr",
          "text": [
            "Some layers from the model checkpoint at bert-base-uncased were not used when initializing TFBertModel: ['nsp___cls', 'mlm___cls']\n",
            "- This IS expected if you are initializing TFBertModel from the checkpoint of a model trained on another task or with another architecture (e.g. initializing a BertForSequenceClassification model from a BertForPreTraining model).\n",
            "- This IS NOT expected if you are initializing TFBertModel from the checkpoint of a model that you expect to be exactly identical (initializing a BertForSequenceClassification model from a BertForSequenceClassification model).\n",
            "All the layers of TFBertModel were initialized from the model checkpoint at bert-base-uncased.\n",
            "If your task is similar to the task the model of the checkpoint was trained on, you can already use TFBertModel for predictions without further training.\n",
            "/usr/local/lib/python3.7/dist-packages/ipykernel_launcher.py:16: UserWarning: `Model.fit_generator` is deprecated and will be removed in a future version. Please use `Model.fit`, which supports generators.\n",
            "  app.launch_new_instance()\n"
          ]
        },
        {
          "output_type": "stream",
          "name": "stdout",
          "text": [
            "Epoch 1/10\n",
            "45/45 [==============================] - 64s 1s/step - loss: 1.5079 - categorical_accuracy: 0.3195 - val_loss: 1.2053 - val_categorical_accuracy: 0.5196\n",
            "Epoch 2/10\n",
            "45/45 [==============================] - 63s 1s/step - loss: 1.0604 - categorical_accuracy: 0.3997 - val_loss: 0.9477 - val_categorical_accuracy: 0.5100\n",
            "Epoch 3/10\n",
            "45/45 [==============================] - 65s 1s/step - loss: 0.9167 - categorical_accuracy: 0.3650 - val_loss: 0.8737 - val_categorical_accuracy: 0.5384\n",
            "Epoch 4/10\n",
            "45/45 [==============================] - 66s 1s/step - loss: 0.8420 - categorical_accuracy: 0.3391 - val_loss: 0.8231 - val_categorical_accuracy: 0.4413\n",
            "Epoch 5/10\n",
            "45/45 [==============================] - 66s 1s/step - loss: 0.7746 - categorical_accuracy: 0.3502 - val_loss: 0.7714 - val_categorical_accuracy: 0.4164\n",
            "Epoch 6/10\n",
            "45/45 [==============================] - 66s 1s/step - loss: 0.6993 - categorical_accuracy: 0.3072 - val_loss: 0.7684 - val_categorical_accuracy: 0.4844\n",
            "Epoch 7/10\n",
            "45/45 [==============================] - 66s 1s/step - loss: 0.6484 - categorical_accuracy: 0.3338 - val_loss: 0.7181 - val_categorical_accuracy: 0.2775\n",
            "Epoch 8/10\n",
            "45/45 [==============================] - 66s 1s/step - loss: 0.5906 - categorical_accuracy: 0.3320 - val_loss: 0.9186 - val_categorical_accuracy: 0.6256\n",
            "Epoch 9/10\n",
            "45/45 [==============================] - 66s 1s/step - loss: 0.5566 - categorical_accuracy: 0.3150 - val_loss: 0.6916 - val_categorical_accuracy: 0.2491\n",
            "Epoch 10/10\n",
            "45/45 [==============================] - 66s 1s/step - loss: 0.5413 - categorical_accuracy: 0.3349 - val_loss: 0.6953 - val_categorical_accuracy: 0.3873\n"
          ]
        }
      ]
    },
    {
      "cell_type": "code",
      "source": [
        "plt.figure(figsize=(10,8))\n",
        "\n",
        "\n",
        "plt.subplot(1,2,1)\n",
        "plt.plot(range(1,11),history.history['loss'])\n",
        "plt.plot(range(1,11),history.history['val_loss'])\n",
        "plt.xlabel('epochs')\n",
        "plt.ylabel('loss')\n",
        "\n",
        "plt.subplot(1,2,2)\n",
        "plt.plot(range(1,11),history.history['categorical_accuracy'])\n",
        "plt.plot(range(1,11),history.history['val_categorical_accuracy'])\n",
        "plt.xlabel('epochs')\n",
        "plt.ylabel('accuracy')"
      ],
      "metadata": {
        "colab": {
          "base_uri": "https://localhost:8080/",
          "height": 514
        },
        "id": "5ZKjBAk_nORD",
        "outputId": "88ef3193-2473-4678-fc4e-2e71979feadb"
      },
      "execution_count": 31,
      "outputs": [
        {
          "output_type": "execute_result",
          "data": {
            "text/plain": [
              "Text(0, 0.5, 'accuracy')"
            ]
          },
          "metadata": {},
          "execution_count": 31
        },
        {
          "output_type": "display_data",
          "data": {
            "text/plain": [
              "<Figure size 720x576 with 2 Axes>"
            ],
            "image/png": "[encoded data removed]"
          },
          "metadata": {
            "needs_background": "light"
          }
        }
      ]
    },
    {
      "cell_type": "code",
      "source": [
        "predictions = cnn_lstm_base.predict(test_data)\n",
        "y_pred = np.argmax(predictions,axis=1)\n",
        "\n",
        "from sklearn.metrics import confusion_matrix, classification_report\n",
        "\n",
        "\n",
        "cf = confusion_matrix(val_labels, y_pred)\n",
        "print(cf)\n",
        "print(classification_report(val_labels, y_pred))"
      ],
      "metadata": {
        "colab": {
          "base_uri": "https://localhost:8080/"
        },
        "id": "lRY9hBU6nYgN",
        "outputId": "5a03b63b-bb9c-40be-ed7c-76465faadd3b"
      },
      "execution_count": 47,
      "outputs": [
        {
          "output_type": "stream",
          "name": "stdout",
          "text": [
            "[[1518   44   33  517]\n",
            " [ 181 1650   72   54]\n",
            " [  63   79 1524   17]\n",
            " [1222   27   22  475]]\n",
            "              precision    recall  f1-score   support\n",
            "\n",
            "           0       0.51      0.72      0.60      2112\n",
            "           1       0.92      0.84      0.88      1957\n",
            "           2       0.92      0.91      0.91      1683\n",
            "           3       0.45      0.27      0.34      1746\n",
            "\n",
            "    accuracy                           0.69      7498\n",
            "   macro avg       0.70      0.68      0.68      7498\n",
            "weighted avg       0.69      0.69      0.68      7498\n",
            "\n"
          ]
        }
      ]
    },
    {
      "cell_type": "markdown",
      "source": [
        "### CNN LSTM with tuned BERT weights"
      ],
      "metadata": {
        "id": "ilziCQlShuhK"
      }
    },
    {
      "cell_type": "code",
      "source": [
        "cnn_lstm_tuned = Sequential()\n",
        "cnn_lstm_tuned.add(TimeDistributed(Conv1D(64,3,padding='same',activation=\"relu\"),input_shape=(25,768,1)))\n",
        "cnn_lstm_tuned.add(TimeDistributed(MaxPool1D(2)))\n",
        "cnn_lstm_tuned.add(TimeDistributed(Conv1D(64,3,padding='same',activation=\"relu\")))\n",
        "cnn_lstm_tuned.add(TimeDistributed(MaxPool1D(2)))\n",
        "cnn_lstm_tuned.add(TimeDistributed(Flatten()))\n",
        "cnn_lstm_tuned.add(Bidirectional(LSTM(256)))\n",
        "cnn_lstm_tuned.add(Dropout(0.2))\n",
        "cnn_lstm_tuned.add(Dense(4,activation=\"softmax\"))\n",
        "\n",
        "\n",
        "cnn_lstm_tuned.compile(loss=\"sparse_categorical_crossentropy\",metrics=\"categorical_accuracy\",optimizer=\"adam\")\n",
        "cnn_lstm_tuned.summary()\n",
        "\n",
        "\n",
        "\n",
        "\n",
        "\n",
        "\n",
        "\n",
        "\n",
        "train_gen = prepare_sequences(train_texts,train_labels,25,300)\n",
        "val_gen = prepare_sequences(val_texts,val_labels,25,300)\n",
        "\n",
        "\n",
        "\n",
        "steps_per_epochs = num_batches(len(train_texts),300)\n",
        "val_steps = num_batches(len(val_texts),300)\n",
        "history = cnn_lstm_tuned.fit_generator(train_gen,steps_per_epoch=steps_per_epochs, validation_data=val_gen,\n",
        "                    validation_steps=val_steps,epochs=10)"
      ],
      "metadata": {
        "colab": {
          "base_uri": "https://localhost:8080/"
        },
        "id": "kNkNF4Jkgo8t",
        "outputId": "ff03a2a1-ed49-46b5-f017-edf5056af028"
      },
      "execution_count": 36,
      "outputs": [
        {
          "output_type": "stream",
          "name": "stdout",
          "text": [
            "Model: \"sequential_18\"\n",
            "_________________________________________________________________\n",
            " Layer (type)                Output Shape              Param #   \n",
            "=================================================================\n",
            " time_distributed_80 (TimeDi  (None, 25, 768, 64)      256       \n",
            " stributed)                                                      \n",
            "                                                                 \n",
            " time_distributed_81 (TimeDi  (None, 25, 384, 64)      0         \n",
            " stributed)                                                      \n",
            "                                                                 \n",
            " time_distributed_82 (TimeDi  (None, 25, 384, 64)      12352     \n",
            " stributed)                                                      \n",
            "                                                                 \n",
            " time_distributed_83 (TimeDi  (None, 25, 192, 64)      0         \n",
            " stributed)                                                      \n",
            "                                                                 \n",
            " time_distributed_84 (TimeDi  (None, 25, 12288)        0         \n",
            " stributed)                                                      \n",
            "                                                                 \n",
            " bidirectional_15 (Bidirecti  (None, 512)              25692160  \n",
            " onal)                                                           \n",
            "                                                                 \n",
            " dropout_200 (Dropout)       (None, 512)               0         \n",
            "                                                                 \n",
            " dense_15 (Dense)            (None, 4)                 2052      \n",
            "                                                                 \n",
            "=================================================================\n",
            "Total params: 25,706,820\n",
            "Trainable params: 25,706,820\n",
            "Non-trainable params: 0\n",
            "_________________________________________________________________\n"
          ]
        },
        {
          "output_type": "stream",
          "name": "stderr",
          "text": [
            "/usr/local/lib/python3.7/dist-packages/ipykernel_launcher.py:30: UserWarning: `Model.fit_generator` is deprecated and will be removed in a future version. Please use `Model.fit`, which supports generators.\n"
          ]
        },
        {
          "output_type": "stream",
          "name": "stdout",
          "text": [
            "Epoch 1/10\n",
            "75/75 [==============================] - 114s 1s/step - loss: 0.8946 - categorical_accuracy: 0.3243 - val_loss: 0.6537 - val_categorical_accuracy: 0.2869\n",
            "Epoch 2/10\n",
            "75/75 [==============================] - 110s 1s/step - loss: 0.6164 - categorical_accuracy: 0.3203 - val_loss: 0.6160 - val_categorical_accuracy: 0.4004\n",
            "Epoch 3/10\n",
            "75/75 [==============================] - 111s 1s/step - loss: 0.5832 - categorical_accuracy: 0.3130 - val_loss: 0.6002 - val_categorical_accuracy: 0.3314\n",
            "Epoch 4/10\n",
            "75/75 [==============================] - 111s 1s/step - loss: 0.5443 - categorical_accuracy: 0.3042 - val_loss: 0.6094 - val_categorical_accuracy: 0.2418\n",
            "Epoch 5/10\n",
            "75/75 [==============================] - 111s 1s/step - loss: 0.5110 - categorical_accuracy: 0.3102 - val_loss: 0.6057 - val_categorical_accuracy: 0.2259\n",
            "Epoch 6/10\n",
            "75/75 [==============================] - 111s 1s/step - loss: 0.4745 - categorical_accuracy: 0.3020 - val_loss: 0.6734 - val_categorical_accuracy: 0.2573\n",
            "Epoch 7/10\n",
            "75/75 [==============================] - 110s 1s/step - loss: 0.4517 - categorical_accuracy: 0.3028 - val_loss: 0.6045 - val_categorical_accuracy: 0.2555\n",
            "Epoch 8/10\n",
            "75/75 [==============================] - 110s 1s/step - loss: 0.4328 - categorical_accuracy: 0.2971 - val_loss: 0.6017 - val_categorical_accuracy: 0.4198\n",
            "Epoch 9/10\n",
            "75/75 [==============================] - 110s 1s/step - loss: 0.4103 - categorical_accuracy: 0.2944 - val_loss: 0.5869 - val_categorical_accuracy: 0.4072\n",
            "Epoch 10/10\n",
            "75/75 [==============================] - 110s 1s/step - loss: 0.3935 - categorical_accuracy: 0.3007 - val_loss: 0.5854 - val_categorical_accuracy: 0.2019\n"
          ]
        }
      ]
    },
    {
      "cell_type": "code",
      "source": [
        "predictions = cnn_lstm_tuned.predict(test_data)\n",
        "y_pred = np.argmax(predictions,axis=1)\n",
        "\n",
        "from sklearn.metrics import confusion_matrix, classification_report\n",
        "\n",
        "\n",
        "cf = confusion_matrix(val_labels, y_pred)\n",
        "print(cf)\n",
        "print(classification_report(val_labels, y_pred))"
      ],
      "metadata": {
        "colab": {
          "base_uri": "https://localhost:8080/"
        },
        "id": "4K6pMAmNh8xm",
        "outputId": "7fc4d306-0b07-4bed-f1c8-261339d1e45a"
      },
      "execution_count": 49,
      "outputs": [
        {
          "output_type": "stream",
          "name": "stdout",
          "text": [
            "[[ 714   80   29 1289]\n",
            " [  36 1777   80   64]\n",
            " [  14   59 1577   33]\n",
            " [ 750   45   16  935]]\n",
            "              precision    recall  f1-score   support\n",
            "\n",
            "           0       0.47      0.34      0.39      2112\n",
            "           1       0.91      0.91      0.91      1957\n",
            "           2       0.93      0.94      0.93      1683\n",
            "           3       0.40      0.54      0.46      1746\n",
            "\n",
            "    accuracy                           0.67      7498\n",
            "   macro avg       0.68      0.68      0.67      7498\n",
            "weighted avg       0.67      0.67      0.66      7498\n",
            "\n"
          ]
        }
      ]
    },
    {
      "cell_type": "code",
      "source": [
        ""
      ],
      "metadata": {
        "id": "95-CYwWN7Jp3"
      },
      "execution_count": null,
      "outputs": []
    }
  ]
}