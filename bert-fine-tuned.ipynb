{
 "cells": [
  {
   "cell_type": "code",
   "execution_count": 1,
   "id": "895dc7b2",
   "metadata": {
    "execution": {
     "iopub.execute_input": "2022-08-05T15:32:08.875930Z",
     "iopub.status.busy": "2022-08-05T15:32:08.874604Z",
     "iopub.status.idle": "2022-08-05T15:32:23.412753Z",
     "shell.execute_reply": "2022-08-05T15:32:23.411570Z"
    },
    "papermill": {
     "duration": 14.549662,
     "end_time": "2022-08-05T15:32:23.415901",
     "exception": false,
     "start_time": "2022-08-05T15:32:08.866239",
     "status": "completed"
    },
    "tags": []
   },
   "outputs": [
    {
     "name": "stdout",
     "output_type": "stream",
     "text": [
      "Collecting sentence-transformers\r\n",
      "  Downloading sentence-transformers-2.2.2.tar.gz (85 kB)\r\n",
      "\u001b[2K     \u001b[90m━━━━━━━━━━━━━━━━━━━━━━━━━━━━━━━━━━━━━━━\u001b[0m \u001b[32m86.0/86.0 kB\u001b[0m \u001b[31m924.3 kB/s\u001b[0m eta \u001b[36m0:00:00\u001b[0m\r\n",
      "\u001b[?25h  Preparing metadata (setup.py) ... \u001b[?25l-\b \bdone\r\n",
      "\u001b[?25hRequirement already satisfied: transformers<5.0.0,>=4.6.0 in /opt/conda/lib/python3.7/site-packages (from sentence-transformers) (4.20.1)\r\n",
      "Requirement already satisfied: tqdm in /opt/conda/lib/python3.7/site-packages (from sentence-transformers) (4.64.0)\r\n",
      "Requirement already satisfied: torch>=1.6.0 in /opt/conda/lib/python3.7/site-packages (from sentence-transformers) (1.11.0)\r\n",
      "Requirement already satisfied: torchvision in /opt/conda/lib/python3.7/site-packages (from sentence-transformers) (0.12.0)\r\n",
      "Requirement already satisfied: numpy in /opt/conda/lib/python3.7/site-packages (from sentence-transformers) (1.21.6)\r\n",
      "Requirement already satisfied: scikit-learn in /opt/conda/lib/python3.7/site-packages (from sentence-transformers) (1.0.2)\r\n",
      "Requirement already satisfied: scipy in /opt/conda/lib/python3.7/site-packages (from sentence-transformers) (1.7.3)\r\n",
      "Requirement already satisfied: nltk in /opt/conda/lib/python3.7/site-packages (from sentence-transformers) (3.7)\r\n",
      "Requirement already satisfied: sentencepiece in /opt/conda/lib/python3.7/site-packages (from sentence-transformers) (0.1.96)\r\n",
      "Requirement already satisfied: huggingface-hub>=0.4.0 in /opt/conda/lib/python3.7/site-packages (from sentence-transformers) (0.8.1)\r\n",
      "Requirement already satisfied: requests in /opt/conda/lib/python3.7/site-packages (from huggingface-hub>=0.4.0->sentence-transformers) (2.28.1)\r\n",
      "Requirement already satisfied: importlib-metadata in /opt/conda/lib/python3.7/site-packages (from huggingface-hub>=0.4.0->sentence-transformers) (4.12.0)\r\n",
      "Requirement already satisfied: pyyaml>=5.1 in /opt/conda/lib/python3.7/site-packages (from huggingface-hub>=0.4.0->sentence-transformers) (6.0)\r\n",
      "Requirement already satisfied: filelock in /opt/conda/lib/python3.7/site-packages (from huggingface-hub>=0.4.0->sentence-transformers) (3.7.1)\r\n",
      "Requirement already satisfied: packaging>=20.9 in /opt/conda/lib/python3.7/site-packages (from huggingface-hub>=0.4.0->sentence-transformers) (21.3)\r\n",
      "Requirement already satisfied: typing-extensions>=3.7.4.3 in /opt/conda/lib/python3.7/site-packages (from huggingface-hub>=0.4.0->sentence-transformers) (4.1.1)\r\n",
      "Requirement already satisfied: regex!=2019.12.17 in /opt/conda/lib/python3.7/site-packages (from transformers<5.0.0,>=4.6.0->sentence-transformers) (2021.11.10)\r\n",
      "Requirement already satisfied: tokenizers!=0.11.3,<0.13,>=0.11.1 in /opt/conda/lib/python3.7/site-packages (from transformers<5.0.0,>=4.6.0->sentence-transformers) (0.12.1)\r\n",
      "Requirement already satisfied: joblib in /opt/conda/lib/python3.7/site-packages (from nltk->sentence-transformers) (1.0.1)\r\n",
      "Requirement already satisfied: click in /opt/conda/lib/python3.7/site-packages (from nltk->sentence-transformers) (8.0.4)\r\n",
      "Requirement already satisfied: threadpoolctl>=2.0.0 in /opt/conda/lib/python3.7/site-packages (from scikit-learn->sentence-transformers) (3.1.0)\r\n",
      "Requirement already satisfied: pillow!=8.3.*,>=5.3.0 in /opt/conda/lib/python3.7/site-packages (from torchvision->sentence-transformers) (9.1.1)\r\n",
      "Requirement already satisfied: pyparsing!=3.0.5,>=2.0.2 in /opt/conda/lib/python3.7/site-packages (from packaging>=20.9->huggingface-hub>=0.4.0->sentence-transformers) (3.0.9)\r\n",
      "Requirement already satisfied: zipp>=0.5 in /opt/conda/lib/python3.7/site-packages (from importlib-metadata->huggingface-hub>=0.4.0->sentence-transformers) (3.8.0)\r\n",
      "Requirement already satisfied: certifi>=2017.4.17 in /opt/conda/lib/python3.7/site-packages (from requests->huggingface-hub>=0.4.0->sentence-transformers) (2022.6.15)\r\n",
      "Requirement already satisfied: urllib3<1.27,>=1.21.1 in /opt/conda/lib/python3.7/site-packages (from requests->huggingface-hub>=0.4.0->sentence-transformers) (1.26.9)\r\n",
      "Requirement already satisfied: idna<4,>=2.5 in /opt/conda/lib/python3.7/site-packages (from requests->huggingface-hub>=0.4.0->sentence-transformers) (3.3)\r\n",
      "Requirement already satisfied: charset-normalizer<3,>=2 in /opt/conda/lib/python3.7/site-packages (from requests->huggingface-hub>=0.4.0->sentence-transformers) (2.1.0)\r\n",
      "Building wheels for collected packages: sentence-transformers\r\n",
      "  Building wheel for sentence-transformers (setup.py) ... \u001b[?25l-\b \b\\\b \b|\b \bdone\r\n",
      "\u001b[?25h  Created wheel for sentence-transformers: filename=sentence_transformers-2.2.2-py3-none-any.whl size=125938 sha256=12cf6a311afa9711d2c1728918cd2b7091f6d03e703889809f2510018000bbc7\r\n",
      "  Stored in directory: /root/.cache/pip/wheels/bf/06/fb/d59c1e5bd1dac7f6cf61ec0036cc3a10ab8fecaa6b2c3d3ee9\r\n",
      "Successfully built sentence-transformers\r\n",
      "Installing collected packages: sentence-transformers\r\n",
      "Successfully installed sentence-transformers-2.2.2\r\n",
      "\u001b[33mWARNING: Running pip as the 'root' user can result in broken permissions and conflicting behaviour with the system package manager. It is recommended to use a virtual environment instead: https://pip.pypa.io/warnings/venv\u001b[0m\u001b[33m\r\n",
      "\u001b[0m"
     ]
    }
   ],
   "source": [
    "import numpy as np\n",
    "import pandas as pd\n",
    "import matplotlib.pyplot as plt\n",
    "import seaborn as sns\n",
    "!pip install sentence-transformers"
   ]
  },
  {
   "cell_type": "markdown",
   "id": "71def681",
   "metadata": {
    "papermill": {
     "duration": 0.006427,
     "end_time": "2022-08-05T15:32:23.429414",
     "exception": false,
     "start_time": "2022-08-05T15:32:23.422987",
     "status": "completed"
    },
    "tags": []
   },
   "source": [
    "### Reading cleaned data"
   ]
  },
  {
   "cell_type": "code",
   "execution_count": 2,
   "id": "bd9e267e",
   "metadata": {
    "execution": {
     "iopub.execute_input": "2022-08-05T15:32:23.444215Z",
     "iopub.status.busy": "2022-08-05T15:32:23.443843Z",
     "iopub.status.idle": "2022-08-05T15:32:23.512407Z",
     "shell.execute_reply": "2022-08-05T15:32:23.511495Z"
    },
    "papermill": {
     "duration": 0.078762,
     "end_time": "2022-08-05T15:32:23.514651",
     "exception": false,
     "start_time": "2022-08-05T15:32:23.435889",
     "status": "completed"
    },
    "tags": []
   },
   "outputs": [
    {
     "data": {
      "text/plain": [
       "(29992, 2)"
      ]
     },
     "execution_count": 2,
     "metadata": {},
     "output_type": "execute_result"
    }
   ],
   "source": [
    "df_tweets = pd.read_csv(\"../input/tweet-mental-health-classification/train.csv\")\n",
    "df_tweets.shape"
   ]
  },
  {
   "cell_type": "markdown",
   "id": "7a615df2",
   "metadata": {
    "papermill": {
     "duration": 0.006526,
     "end_time": "2022-08-05T15:32:23.528085",
     "exception": false,
     "start_time": "2022-08-05T15:32:23.521559",
     "status": "completed"
    },
    "tags": []
   },
   "source": [
    "### Make the labels numeric"
   ]
  },
  {
   "cell_type": "code",
   "execution_count": 3,
   "id": "80d2c59b",
   "metadata": {
    "execution": {
     "iopub.execute_input": "2022-08-05T15:32:23.542844Z",
     "iopub.status.busy": "2022-08-05T15:32:23.542511Z",
     "iopub.status.idle": "2022-08-05T15:32:23.563563Z",
     "shell.execute_reply": "2022-08-05T15:32:23.562635Z"
    },
    "papermill": {
     "duration": 0.031035,
     "end_time": "2022-08-05T15:32:23.565705",
     "exception": false,
     "start_time": "2022-08-05T15:32:23.534670",
     "status": "completed"
    },
    "tags": []
   },
   "outputs": [],
   "source": [
    "mapper = {\n",
    "    \"Anxious\": 0,\n",
    "    \"Normal\": 1,\n",
    "    \"Stressed\": 2,\n",
    "    \"Lonely\": 3\n",
    "}\n",
    "\n",
    "df_tweets[\"labels\"] = df_tweets[\"labels\"].map(mapper)"
   ]
  },
  {
   "cell_type": "markdown",
   "id": "e0c33709",
   "metadata": {
    "papermill": {
     "duration": 0.006798,
     "end_time": "2022-08-05T15:32:23.579592",
     "exception": false,
     "start_time": "2022-08-05T15:32:23.572794",
     "status": "completed"
    },
    "tags": []
   },
   "source": [
    "### Now lets build a BERT model"
   ]
  },
  {
   "cell_type": "code",
   "execution_count": 4,
   "id": "5e2945cc",
   "metadata": {
    "execution": {
     "iopub.execute_input": "2022-08-05T15:32:23.594523Z",
     "iopub.status.busy": "2022-08-05T15:32:23.594142Z",
     "iopub.status.idle": "2022-08-05T15:33:17.570543Z",
     "shell.execute_reply": "2022-08-05T15:33:17.569613Z"
    },
    "papermill": {
     "duration": 53.986762,
     "end_time": "2022-08-05T15:33:17.573185",
     "exception": false,
     "start_time": "2022-08-05T15:32:23.586423",
     "status": "completed"
    },
    "tags": []
   },
   "outputs": [
    {
     "name": "stderr",
     "output_type": "stream",
     "text": [
      "2022-08-05 15:32:31.253249: I tensorflow/stream_executor/cuda/cuda_gpu_executor.cc:937] successful NUMA node read from SysFS had negative value (-1), but there must be at least one NUMA node, so returning NUMA node zero\n",
      "2022-08-05 15:32:31.254623: I tensorflow/stream_executor/cuda/cuda_gpu_executor.cc:937] successful NUMA node read from SysFS had negative value (-1), but there must be at least one NUMA node, so returning NUMA node zero\n",
      "2022-08-05 15:32:31.255329: I tensorflow/stream_executor/cuda/cuda_gpu_executor.cc:937] successful NUMA node read from SysFS had negative value (-1), but there must be at least one NUMA node, so returning NUMA node zero\n",
      "2022-08-05 15:32:31.257275: I tensorflow/core/platform/cpu_feature_guard.cc:142] This TensorFlow binary is optimized with oneAPI Deep Neural Network Library (oneDNN) to use the following CPU instructions in performance-critical operations:  AVX2 AVX512F FMA\n",
      "To enable them in other operations, rebuild TensorFlow with the appropriate compiler flags.\n",
      "2022-08-05 15:32:31.257639: I tensorflow/stream_executor/cuda/cuda_gpu_executor.cc:937] successful NUMA node read from SysFS had negative value (-1), but there must be at least one NUMA node, so returning NUMA node zero\n",
      "2022-08-05 15:32:31.258368: I tensorflow/stream_executor/cuda/cuda_gpu_executor.cc:937] successful NUMA node read from SysFS had negative value (-1), but there must be at least one NUMA node, so returning NUMA node zero\n",
      "2022-08-05 15:32:31.259031: I tensorflow/stream_executor/cuda/cuda_gpu_executor.cc:937] successful NUMA node read from SysFS had negative value (-1), but there must be at least one NUMA node, so returning NUMA node zero\n",
      "2022-08-05 15:32:36.483831: I tensorflow/stream_executor/cuda/cuda_gpu_executor.cc:937] successful NUMA node read from SysFS had negative value (-1), but there must be at least one NUMA node, so returning NUMA node zero\n",
      "2022-08-05 15:32:36.484725: I tensorflow/stream_executor/cuda/cuda_gpu_executor.cc:937] successful NUMA node read from SysFS had negative value (-1), but there must be at least one NUMA node, so returning NUMA node zero\n",
      "2022-08-05 15:32:36.485434: I tensorflow/stream_executor/cuda/cuda_gpu_executor.cc:937] successful NUMA node read from SysFS had negative value (-1), but there must be at least one NUMA node, so returning NUMA node zero\n",
      "2022-08-05 15:32:36.486052: I tensorflow/core/common_runtime/gpu/gpu_device.cc:1510] Created device /job:localhost/replica:0/task:0/device:GPU:0 with 15047 MB memory:  -> device: 0, name: Tesla P100-PCIE-16GB, pci bus id: 0000:00:04.0, compute capability: 6.0\n"
     ]
    },
    {
     "data": {
      "application/vnd.jupyter.widget-view+json": {
       "model_id": "fbb18ee83bc94a279c58b7ca4d1f366e",
       "version_major": 2,
       "version_minor": 0
      },
      "text/plain": [
       "Downloading:   0%|          | 0.00/28.0 [00:00<?, ?B/s]"
      ]
     },
     "metadata": {},
     "output_type": "display_data"
    },
    {
     "data": {
      "application/vnd.jupyter.widget-view+json": {
       "model_id": "427006ed60eb4cf7a7bbf07e3dc92912",
       "version_major": 2,
       "version_minor": 0
      },
      "text/plain": [
       "Downloading:   0%|          | 0.00/570 [00:00<?, ?B/s]"
      ]
     },
     "metadata": {},
     "output_type": "display_data"
    },
    {
     "data": {
      "application/vnd.jupyter.widget-view+json": {
       "model_id": "5fb0d034622e4ee9bfb7f7f17333a975",
       "version_major": 2,
       "version_minor": 0
      },
      "text/plain": [
       "Downloading:   0%|          | 0.00/226k [00:00<?, ?B/s]"
      ]
     },
     "metadata": {},
     "output_type": "display_data"
    },
    {
     "data": {
      "application/vnd.jupyter.widget-view+json": {
       "model_id": "c65dec7ad52f47da974f46aa3538dd05",
       "version_major": 2,
       "version_minor": 0
      },
      "text/plain": [
       "Downloading:   0%|          | 0.00/455k [00:00<?, ?B/s]"
      ]
     },
     "metadata": {},
     "output_type": "display_data"
    },
    {
     "data": {
      "application/vnd.jupyter.widget-view+json": {
       "model_id": "aa3de166d63a494dbd8d719c1e5890d3",
       "version_major": 2,
       "version_minor": 0
      },
      "text/plain": [
       "Downloading:   0%|          | 0.00/511M [00:00<?, ?B/s]"
      ]
     },
     "metadata": {},
     "output_type": "display_data"
    },
    {
     "name": "stderr",
     "output_type": "stream",
     "text": [
      "Some layers from the model checkpoint at bert-base-uncased were not used when initializing TFBertModel: ['nsp___cls', 'mlm___cls']\n",
      "- This IS expected if you are initializing TFBertModel from the checkpoint of a model trained on another task or with another architecture (e.g. initializing a BertForSequenceClassification model from a BertForPreTraining model).\n",
      "- This IS NOT expected if you are initializing TFBertModel from the checkpoint of a model that you expect to be exactly identical (initializing a BertForSequenceClassification model from a BertForSequenceClassification model).\n",
      "All the layers of TFBertModel were initialized from the model checkpoint at bert-base-uncased.\n",
      "If your task is similar to the task the model of the checkpoint was trained on, you can already use TFBertModel for predictions without further training.\n"
     ]
    }
   ],
   "source": [
    "from transformers import AutoTokenizer, TFBertModel\n",
    "\n",
    "tc = AutoTokenizer.from_pretrained(\"bert-base-uncased\",padding_side=\"left\",truncation_side=\"right\",return_tensors=\"tf\")\n",
    "BERTmodel = TFBertModel.from_pretrained(\"bert-base-uncased\")\n"
   ]
  },
  {
   "cell_type": "markdown",
   "id": "5c26e9a9",
   "metadata": {
    "papermill": {
     "duration": 0.017141,
     "end_time": "2022-08-05T15:33:17.604960",
     "exception": false,
     "start_time": "2022-08-05T15:33:17.587819",
     "status": "completed"
    },
    "tags": []
   },
   "source": [
    "#### Splitting the data into train and test "
   ]
  },
  {
   "cell_type": "code",
   "execution_count": 5,
   "id": "a9438df4",
   "metadata": {
    "execution": {
     "iopub.execute_input": "2022-08-05T15:33:17.632542Z",
     "iopub.status.busy": "2022-08-05T15:33:17.632072Z",
     "iopub.status.idle": "2022-08-05T15:33:17.661237Z",
     "shell.execute_reply": "2022-08-05T15:33:17.660227Z"
    },
    "papermill": {
     "duration": 0.046357,
     "end_time": "2022-08-05T15:33:17.664028",
     "exception": false,
     "start_time": "2022-08-05T15:33:17.617671",
     "status": "completed"
    },
    "tags": []
   },
   "outputs": [],
   "source": [
    "from sklearn.model_selection import train_test_split\n",
    "df_train, df_test = train_test_split(df_tweets,train_size=0.75,random_state=2)"
   ]
  },
  {
   "cell_type": "markdown",
   "id": "044a00ee",
   "metadata": {
    "papermill": {
     "duration": 0.010607,
     "end_time": "2022-08-05T15:33:17.689619",
     "exception": false,
     "start_time": "2022-08-05T15:33:17.679012",
     "status": "completed"
    },
    "tags": []
   },
   "source": [
    "### Step 1 tokenize the training data"
   ]
  },
  {
   "cell_type": "code",
   "execution_count": 6,
   "id": "4bc1b36f",
   "metadata": {
    "execution": {
     "iopub.execute_input": "2022-08-05T15:33:17.714108Z",
     "iopub.status.busy": "2022-08-05T15:33:17.713683Z",
     "iopub.status.idle": "2022-08-05T15:33:17.732665Z",
     "shell.execute_reply": "2022-08-05T15:33:17.731674Z"
    },
    "papermill": {
     "duration": 0.035204,
     "end_time": "2022-08-05T15:33:17.735790",
     "exception": false,
     "start_time": "2022-08-05T15:33:17.700586",
     "status": "completed"
    },
    "tags": []
   },
   "outputs": [],
   "source": [
    "import tensorflow as tf\n",
    "train_tweets = df_train[\"tweets\"].tolist()\n",
    "test_tweets = df_test[\"tweets\"].tolist()\n",
    "\n",
    "#### Get the number of the batches \n",
    "def num_batches(total,batch_size):\n",
    "    if total % batch_size == 0:\n",
    "        return total // batch_size\n",
    "    else:\n",
    "        return total // batch_size + 1\n",
    "    \n",
    "### Tokenize the data function in batches to prevent memory overflow    \n",
    "def tokenize_text_batches(text,seq_len,batch_size=300):\n",
    "    total = len(text)\n",
    "    batches = num_batches(total,batch_size)\n",
    "    input_ids = np.zeros((total,seq_len))\n",
    "    token_type_ids = np.zeros((total,seq_len))\n",
    "    attention_mask = np.zeros((total,seq_len))\n",
    "    for b in range(batches):\n",
    "        if total % batch_size == 0 or b < batches -1:\n",
    "            tokens = tc(text[b*batch_size: b*batch_size + batch_size],max_length=seq_len,padding=True,truncation=True)\n",
    "            input_ids[b*batch_size:b*batch_size+batch_size,:] = (tokens[\"input_ids\"] )\n",
    "            token_type_ids[b*batch_size:b*batch_size+batch_size,:] = (tokens[\"token_type_ids\"] )\n",
    "            attention_mask[b*batch_size:b*batch_size+batch_size,:] = (tokens[\"attention_mask\"] )\n",
    "            \n",
    "        else:\n",
    "            tokens = tc(text[b*batch_size:],max_length=seq_len,padding=True,truncation=True)\n",
    "            input_ids[b*batch_size:,:] =(tokens[\"input_ids\"] )\n",
    "            token_type_ids[b*batch_size:,:] = (tokens[\"token_type_ids\"] )\n",
    "            attention_mask[b*batch_size:,:] = (tokens[\"attention_mask\"] )\n",
    "            \n",
    "    return input_ids, token_type_ids, attention_mask\n",
    "            "
   ]
  },
  {
   "cell_type": "markdown",
   "id": "6796f9bf",
   "metadata": {
    "papermill": {
     "duration": 0.010449,
     "end_time": "2022-08-05T15:33:17.757878",
     "exception": false,
     "start_time": "2022-08-05T15:33:17.747429",
     "status": "completed"
    },
    "tags": []
   },
   "source": [
    "### Deciding the optimum sequence length"
   ]
  },
  {
   "cell_type": "code",
   "execution_count": 7,
   "id": "53ee8f28",
   "metadata": {
    "execution": {
     "iopub.execute_input": "2022-08-05T15:33:17.779319Z",
     "iopub.status.busy": "2022-08-05T15:33:17.778926Z",
     "iopub.status.idle": "2022-08-05T15:33:18.691083Z",
     "shell.execute_reply": "2022-08-05T15:33:18.690070Z"
    },
    "papermill": {
     "duration": 0.924597,
     "end_time": "2022-08-05T15:33:18.693219",
     "exception": false,
     "start_time": "2022-08-05T15:33:17.768622",
     "status": "completed"
    },
    "tags": []
   },
   "outputs": [
    {
     "name": "stderr",
     "output_type": "stream",
     "text": [
      "/opt/conda/lib/python3.7/site-packages/seaborn/distributions.py:2619: FutureWarning: `distplot` is a deprecated function and will be removed in a future version. Please adapt your code to use either `displot` (a figure-level function with similar flexibility) or `histplot` (an axes-level function for histograms).\n",
      "  warnings.warn(msg, FutureWarning)\n"
     ]
    },
    {
     "data": {
      "text/plain": [
       "<AxesSubplot:xlabel='tweets', ylabel='Density'>"
      ]
     },
     "execution_count": 7,
     "metadata": {},
     "output_type": "execute_result"
    },
    {
     "data": {
      "image/png": "[encoded data removed]",
      "text/plain": [
       "<Figure size 432x288 with 1 Axes>"
      ]
     },
     "metadata": {
      "needs_background": "light"
     },
     "output_type": "display_data"
    }
   ],
   "source": [
    "words = df_train[\"tweets\"].apply(lambda x: len(x.split()))\n",
    "sns.distplot(words)"
   ]
  },
  {
   "cell_type": "code",
   "execution_count": 8,
   "id": "0c1fc513",
   "metadata": {
    "execution": {
     "iopub.execute_input": "2022-08-05T15:33:18.711126Z",
     "iopub.status.busy": "2022-08-05T15:33:18.710831Z",
     "iopub.status.idle": "2022-08-05T15:33:18.718976Z",
     "shell.execute_reply": "2022-08-05T15:33:18.717933Z"
    },
    "papermill": {
     "duration": 0.019915,
     "end_time": "2022-08-05T15:33:18.721283",
     "exception": false,
     "start_time": "2022-08-05T15:33:18.701368",
     "status": "completed"
    },
    "tags": []
   },
   "outputs": [
    {
     "data": {
      "text/plain": [
       "14.0"
      ]
     },
     "execution_count": 8,
     "metadata": {},
     "output_type": "execute_result"
    }
   ],
   "source": [
    "np.quantile(words,0.8)"
   ]
  },
  {
   "cell_type": "markdown",
   "id": "345e2eef",
   "metadata": {
    "papermill": {
     "duration": 0.007858,
     "end_time": "2022-08-05T15:33:18.736932",
     "exception": false,
     "start_time": "2022-08-05T15:33:18.729074",
     "status": "completed"
    },
    "tags": []
   },
   "source": [
    "### We will select 15 words as sequence length that is close to 80th percentile"
   ]
  },
  {
   "cell_type": "code",
   "execution_count": 9,
   "id": "5ef74899",
   "metadata": {
    "execution": {
     "iopub.execute_input": "2022-08-05T15:33:18.755051Z",
     "iopub.status.busy": "2022-08-05T15:33:18.754758Z",
     "iopub.status.idle": "2022-08-05T15:33:20.302126Z",
     "shell.execute_reply": "2022-08-05T15:33:20.301151Z"
    },
    "papermill": {
     "duration": 1.558497,
     "end_time": "2022-08-05T15:33:20.304537",
     "exception": false,
     "start_time": "2022-08-05T15:33:18.746040",
     "status": "completed"
    },
    "tags": []
   },
   "outputs": [],
   "source": [
    "train_inputs = tokenize_text_batches(train_tweets,25,batch_size=300)\n",
    "test_inputs = tokenize_text_batches(test_tweets,25,batch_size=300)"
   ]
  },
  {
   "cell_type": "markdown",
   "id": "6f1d468f",
   "metadata": {
    "papermill": {
     "duration": 0.007767,
     "end_time": "2022-08-05T15:33:20.320364",
     "exception": false,
     "start_time": "2022-08-05T15:33:20.312597",
     "status": "completed"
    },
    "tags": []
   },
   "source": [
    "### Preparing labels"
   ]
  },
  {
   "cell_type": "code",
   "execution_count": 10,
   "id": "35afb98c",
   "metadata": {
    "execution": {
     "iopub.execute_input": "2022-08-05T15:33:20.338069Z",
     "iopub.status.busy": "2022-08-05T15:33:20.337102Z",
     "iopub.status.idle": "2022-08-05T15:33:20.345192Z",
     "shell.execute_reply": "2022-08-05T15:33:20.344306Z"
    },
    "papermill": {
     "duration": 0.019138,
     "end_time": "2022-08-05T15:33:20.347282",
     "exception": false,
     "start_time": "2022-08-05T15:33:20.328144",
     "status": "completed"
    },
    "tags": []
   },
   "outputs": [],
   "source": [
    "def prepare_labels(labels):\n",
    "    return pd.get_dummies(labels).values\n",
    "\n",
    "train_labels = prepare_labels(df_train[\"labels\"])\n",
    "test_labels = prepare_labels(df_test[\"labels\"])"
   ]
  },
  {
   "cell_type": "markdown",
   "id": "1e1bf05e",
   "metadata": {
    "papermill": {
     "duration": 0.007953,
     "end_time": "2022-08-05T15:33:20.363071",
     "exception": false,
     "start_time": "2022-08-05T15:33:20.355118",
     "status": "completed"
    },
    "tags": []
   },
   "source": [
    "### Data Is prepared\n",
    "### Now let us build a model"
   ]
  },
  {
   "cell_type": "code",
   "execution_count": 11,
   "id": "7bfd4021",
   "metadata": {
    "execution": {
     "iopub.execute_input": "2022-08-05T15:33:20.379884Z",
     "iopub.status.busy": "2022-08-05T15:33:20.379554Z",
     "iopub.status.idle": "2022-08-05T15:33:20.385315Z",
     "shell.execute_reply": "2022-08-05T15:33:20.384463Z"
    },
    "papermill": {
     "duration": 0.016403,
     "end_time": "2022-08-05T15:33:20.387275",
     "exception": false,
     "start_time": "2022-08-05T15:33:20.370872",
     "status": "completed"
    },
    "tags": []
   },
   "outputs": [],
   "source": [
    "from tensorflow.keras import Model\n",
    "from tensorflow.keras.layers import Dense, Dropout, Input\n"
   ]
  },
  {
   "cell_type": "code",
   "execution_count": 12,
   "id": "55814e7a",
   "metadata": {
    "execution": {
     "iopub.execute_input": "2022-08-05T15:33:20.405437Z",
     "iopub.status.busy": "2022-08-05T15:33:20.403981Z",
     "iopub.status.idle": "2022-08-05T15:33:20.411659Z",
     "shell.execute_reply": "2022-08-05T15:33:20.410647Z"
    },
    "papermill": {
     "duration": 0.018844,
     "end_time": "2022-08-05T15:33:20.413813",
     "exception": false,
     "start_time": "2022-08-05T15:33:20.394969",
     "status": "completed"
    },
    "tags": []
   },
   "outputs": [
    {
     "data": {
      "text/plain": [
       "array([[0, 0, 0, 1],\n",
       "       [0, 0, 0, 1],\n",
       "       [0, 0, 0, 1],\n",
       "       [0, 0, 0, 1],\n",
       "       [1, 0, 0, 0],\n",
       "       [0, 0, 0, 1],\n",
       "       [0, 0, 0, 1],\n",
       "       [1, 0, 0, 0],\n",
       "       [0, 1, 0, 0],\n",
       "       [0, 0, 1, 0]], dtype=uint8)"
      ]
     },
     "execution_count": 12,
     "metadata": {},
     "output_type": "execute_result"
    }
   ],
   "source": [
    "test_labels[:10,:]"
   ]
  },
  {
   "cell_type": "code",
   "execution_count": 13,
   "id": "b432622a",
   "metadata": {
    "execution": {
     "iopub.execute_input": "2022-08-05T15:33:20.430705Z",
     "iopub.status.busy": "2022-08-05T15:33:20.430426Z",
     "iopub.status.idle": "2022-08-05T15:33:27.157847Z",
     "shell.execute_reply": "2022-08-05T15:33:27.156219Z"
    },
    "papermill": {
     "duration": 6.739081,
     "end_time": "2022-08-05T15:33:27.160679",
     "exception": false,
     "start_time": "2022-08-05T15:33:20.421598",
     "status": "completed"
    },
    "tags": []
   },
   "outputs": [
    {
     "name": "stdout",
     "output_type": "stream",
     "text": [
      "Model: \"model\"\n",
      "__________________________________________________________________________________________________\n",
      "Layer (type)                    Output Shape         Param #     Connected to                     \n",
      "==================================================================================================\n",
      "input_1 (InputLayer)            [(None, 25)]         0                                            \n",
      "__________________________________________________________________________________________________\n",
      "input_2 (InputLayer)            [(None, 25)]         0                                            \n",
      "__________________________________________________________________________________________________\n",
      "input_3 (InputLayer)            [(None, 25)]         0                                            \n",
      "__________________________________________________________________________________________________\n",
      "tf_bert_model (TFBertModel)     TFBaseModelOutputWit 109482240   input_1[0][0]                    \n",
      "                                                                 input_2[0][0]                    \n",
      "                                                                 input_3[0][0]                    \n",
      "__________________________________________________________________________________________________\n",
      "tf.__operators__.getitem (Slici (None, 768)          0           tf_bert_model[0][0]              \n",
      "__________________________________________________________________________________________________\n",
      "dense (Dense)                   (None, 4)            3076        tf.__operators__.getitem[0][0]   \n",
      "==================================================================================================\n",
      "Total params: 109,485,316\n",
      "Trainable params: 109,485,316\n",
      "Non-trainable params: 0\n",
      "__________________________________________________________________________________________________\n"
     ]
    }
   ],
   "source": [
    "from tensorflow.keras.layers import Reshape\n",
    "import keras.backend as K\n",
    "\n",
    "input_ids = Input(25,dtype=np.int64)\n",
    "token_type_id = Input(25,dtype=np.int64)\n",
    "attention_mask = Input(25,dtype=np.int64)\n",
    "bert_out = BERTmodel(input_ids,token_type_id,attention_mask)\n",
    "\n",
    "y = Dense(4,activation=\"softmax\",input_shape=(768,))(bert_out.last_hidden_state[:,0,:])\n",
    "#dense_out = dense\n",
    "# dropout = Dropout(0.2)\n",
    "# dp = dropout(dense)\n",
    "# pred_layer = Dense(4,activation=\"softmax\")\n",
    "# y = pred_layer(dense)\n",
    "model = Model([input_ids,token_type_id,attention_mask],y)\n",
    "model.compile(loss=\"categorical_crossentropy\",metrics=\"categorical_accuracy\",optimizer=tf.keras.optimizers.Adam(2e-6))\n",
    "model.summary()"
   ]
  },
  {
   "cell_type": "code",
   "execution_count": 14,
   "id": "8d4ad3ff",
   "metadata": {
    "execution": {
     "iopub.execute_input": "2022-08-05T15:33:27.189622Z",
     "iopub.status.busy": "2022-08-05T15:33:27.188635Z",
     "iopub.status.idle": "2022-08-05T15:53:03.898496Z",
     "shell.execute_reply": "2022-08-05T15:53:03.896929Z"
    },
    "papermill": {
     "duration": 1176.727411,
     "end_time": "2022-08-05T15:53:03.901284",
     "exception": false,
     "start_time": "2022-08-05T15:33:27.173873",
     "status": "completed"
    },
    "tags": []
   },
   "outputs": [
    {
     "name": "stderr",
     "output_type": "stream",
     "text": [
      "2022-08-05 15:33:27.288422: I tensorflow/compiler/mlir/mlir_graph_optimization_pass.cc:185] None of the MLIR Optimization Passes are enabled (registered 2)\n"
     ]
    },
    {
     "name": "stdout",
     "output_type": "stream",
     "text": [
      "Epoch 1/18\n",
      "45/45 [==============================] - 81s 1s/step - loss: 1.3570 - categorical_accuracy: 0.3401 - val_loss: 1.2316 - val_categorical_accuracy: 0.4318\n",
      "Epoch 2/18\n",
      "45/45 [==============================] - 64s 1s/step - loss: 1.1803 - categorical_accuracy: 0.4568 - val_loss: 1.0521 - val_categorical_accuracy: 0.5051\n",
      "Epoch 3/18\n",
      "45/45 [==============================] - 64s 1s/step - loss: 1.0241 - categorical_accuracy: 0.5270 - val_loss: 0.9229 - val_categorical_accuracy: 0.5667\n",
      "Epoch 4/18\n",
      "45/45 [==============================] - 64s 1s/step - loss: 0.9136 - categorical_accuracy: 0.5799 - val_loss: 0.8253 - val_categorical_accuracy: 0.6135\n",
      "Epoch 5/18\n",
      "45/45 [==============================] - 64s 1s/step - loss: 0.8184 - categorical_accuracy: 0.6163 - val_loss: 0.7675 - val_categorical_accuracy: 0.6319\n",
      "Epoch 6/18\n",
      "45/45 [==============================] - 64s 1s/step - loss: 0.7576 - categorical_accuracy: 0.6394 - val_loss: 0.7342 - val_categorical_accuracy: 0.6440\n",
      "Epoch 7/18\n",
      "45/45 [==============================] - 64s 1s/step - loss: 0.7188 - categorical_accuracy: 0.6547 - val_loss: 0.6985 - val_categorical_accuracy: 0.6563\n",
      "Epoch 8/18\n",
      "45/45 [==============================] - 64s 1s/step - loss: 0.6838 - categorical_accuracy: 0.6718 - val_loss: 0.6828 - val_categorical_accuracy: 0.6590\n",
      "Epoch 9/18\n",
      "45/45 [==============================] - 64s 1s/step - loss: 0.6660 - categorical_accuracy: 0.6767 - val_loss: 0.6667 - val_categorical_accuracy: 0.6639\n",
      "Epoch 10/18\n",
      "45/45 [==============================] - 64s 1s/step - loss: 0.6443 - categorical_accuracy: 0.6859 - val_loss: 0.6588 - val_categorical_accuracy: 0.6702\n",
      "Epoch 11/18\n",
      "45/45 [==============================] - 64s 1s/step - loss: 0.6345 - categorical_accuracy: 0.6879 - val_loss: 0.6501 - val_categorical_accuracy: 0.6668\n",
      "Epoch 12/18\n",
      "45/45 [==============================] - 64s 1s/step - loss: 0.6160 - categorical_accuracy: 0.6969 - val_loss: 0.6396 - val_categorical_accuracy: 0.6714\n",
      "Epoch 13/18\n",
      "45/45 [==============================] - 64s 1s/step - loss: 0.6078 - categorical_accuracy: 0.6975 - val_loss: 0.6348 - val_categorical_accuracy: 0.6752\n",
      "Epoch 14/18\n",
      "45/45 [==============================] - 64s 1s/step - loss: 0.6003 - categorical_accuracy: 0.6989 - val_loss: 0.6304 - val_categorical_accuracy: 0.6755\n",
      "Epoch 15/18\n",
      "45/45 [==============================] - 64s 1s/step - loss: 0.5897 - categorical_accuracy: 0.7064 - val_loss: 0.6219 - val_categorical_accuracy: 0.6772\n",
      "Epoch 16/18\n",
      "45/45 [==============================] - 64s 1s/step - loss: 0.5842 - categorical_accuracy: 0.7036 - val_loss: 0.6209 - val_categorical_accuracy: 0.6782\n",
      "Epoch 17/18\n",
      "45/45 [==============================] - 64s 1s/step - loss: 0.5730 - categorical_accuracy: 0.7108 - val_loss: 0.6174 - val_categorical_accuracy: 0.6802\n",
      "Epoch 18/18\n",
      "45/45 [==============================] - 64s 1s/step - loss: 0.5643 - categorical_accuracy: 0.7160 - val_loss: 0.6126 - val_categorical_accuracy: 0.6807\n"
     ]
    }
   ],
   "source": [
    "history = model.fit(list(train_inputs),train_labels,batch_size=500,epochs=18,validation_data=(list(test_inputs),test_labels))"
   ]
  },
  {
   "cell_type": "code",
   "execution_count": 15,
   "id": "9c898914",
   "metadata": {
    "execution": {
     "iopub.execute_input": "2022-08-05T15:53:04.111250Z",
     "iopub.status.busy": "2022-08-05T15:53:04.110723Z",
     "iopub.status.idle": "2022-08-05T15:53:04.463474Z",
     "shell.execute_reply": "2022-08-05T15:53:04.462442Z"
    },
    "papermill": {
     "duration": 0.45085,
     "end_time": "2022-08-05T15:53:04.465958",
     "exception": false,
     "start_time": "2022-08-05T15:53:04.015108",
     "status": "completed"
    },
    "tags": []
   },
   "outputs": [
    {
     "data": {
      "text/plain": [
       "Text(0, 0.5, 'Accuracy')"
      ]
     },
     "execution_count": 15,
     "metadata": {},
     "output_type": "execute_result"
    },
    {
     "data": {
      "image/png": "[encoded data removed]",
      "text/plain": [
       "<Figure size 720x576 with 2 Axes>"
      ]
     },
     "metadata": {
      "needs_background": "light"
     },
     "output_type": "display_data"
    }
   ],
   "source": [
    "h = history.history\n",
    "plt.figure(figsize=(10,8))\n",
    "plt.subplot(2,2,1)\n",
    "plt.plot(range(1,19),h[\"loss\"])\n",
    "plt.plot(range(1,19),h[\"val_loss\"])\n",
    "plt.xlabel(\"epochs\")\n",
    "plt.ylabel(\"loss\")\n",
    "\n",
    "plt.subplot(2,2,2)\n",
    "plt.plot(range(1,19),h[\"categorical_accuracy\"])\n",
    "plt.plot(range(1,19),h[\"val_categorical_accuracy\"])\n",
    "plt.xlabel(\"epochs\")\n",
    "plt.ylabel(\"Accuracy\")"
   ]
  },
  {
   "cell_type": "markdown",
   "id": "846c607e",
   "metadata": {
    "papermill": {
     "duration": 0.054323,
     "end_time": "2022-08-05T15:53:04.608092",
     "exception": false,
     "start_time": "2022-08-05T15:53:04.553769",
     "status": "completed"
    },
    "tags": []
   },
   "source": [
    "### Training is better predict on test data"
   ]
  },
  {
   "cell_type": "code",
   "execution_count": 16,
   "id": "a0537a96",
   "metadata": {
    "execution": {
     "iopub.execute_input": "2022-08-05T15:53:04.712038Z",
     "iopub.status.busy": "2022-08-05T15:53:04.711057Z",
     "iopub.status.idle": "2022-08-05T15:53:18.726548Z",
     "shell.execute_reply": "2022-08-05T15:53:18.725462Z"
    },
    "papermill": {
     "duration": 14.070106,
     "end_time": "2022-08-05T15:53:18.728955",
     "exception": false,
     "start_time": "2022-08-05T15:53:04.658849",
     "status": "completed"
    },
    "tags": []
   },
   "outputs": [],
   "source": [
    "predictions = model.predict(test_inputs)\n",
    "predictions = np.argmax(predictions,axis=1)"
   ]
  },
  {
   "cell_type": "code",
   "execution_count": 17,
   "id": "41fa4123",
   "metadata": {
    "execution": {
     "iopub.execute_input": "2022-08-05T15:53:18.835254Z",
     "iopub.status.busy": "2022-08-05T15:53:18.834869Z",
     "iopub.status.idle": "2022-08-05T15:53:18.859338Z",
     "shell.execute_reply": "2022-08-05T15:53:18.858341Z"
    },
    "papermill": {
     "duration": 0.079492,
     "end_time": "2022-08-05T15:53:18.861396",
     "exception": false,
     "start_time": "2022-08-05T15:53:18.781904",
     "status": "completed"
    },
    "tags": []
   },
   "outputs": [
    {
     "name": "stdout",
     "output_type": "stream",
     "text": [
      "[[1189   91   46  795]\n",
      " [ 114 1736   49   59]\n",
      " [  51   98 1529   15]\n",
      " [ 987   59   30  650]]\n",
      "              precision    recall  f1-score   support\n",
      "\n",
      "           0       0.51      0.56      0.53      2121\n",
      "           1       0.88      0.89      0.88      1958\n",
      "           2       0.92      0.90      0.91      1693\n",
      "           3       0.43      0.38      0.40      1726\n",
      "\n",
      "    accuracy                           0.68      7498\n",
      "   macro avg       0.68      0.68      0.68      7498\n",
      "weighted avg       0.68      0.68      0.68      7498\n",
      "\n"
     ]
    }
   ],
   "source": [
    "from sklearn.metrics import confusion_matrix,classification_report\n",
    "\n",
    "cf = confusion_matrix(df_test[\"labels\"],predictions)\n",
    "print(cf)\n",
    "print(classification_report(df_test[\"labels\"],predictions))"
   ]
  },
  {
   "cell_type": "markdown",
   "id": "8a97f62d",
   "metadata": {
    "papermill": {
     "duration": 0.050583,
     "end_time": "2022-08-05T15:53:18.963425",
     "exception": false,
     "start_time": "2022-08-05T15:53:18.912842",
     "status": "completed"
    },
    "tags": []
   },
   "source": [
    "### Save the model \n",
    "### Better f1 compared to others"
   ]
  },
  {
   "cell_type": "code",
   "execution_count": 18,
   "id": "5285f7a8",
   "metadata": {
    "execution": {
     "iopub.execute_input": "2022-08-05T15:53:19.068568Z",
     "iopub.status.busy": "2022-08-05T15:53:19.068220Z",
     "iopub.status.idle": "2022-08-05T15:53:21.769463Z",
     "shell.execute_reply": "2022-08-05T15:53:21.768098Z"
    },
    "papermill": {
     "duration": 2.760241,
     "end_time": "2022-08-05T15:53:21.775243",
     "exception": false,
     "start_time": "2022-08-05T15:53:19.015002",
     "status": "completed"
    },
    "tags": []
   },
   "outputs": [],
   "source": [
    "model.save(\"model-tuned.h5\")"
   ]
  },
  {
   "cell_type": "code",
   "execution_count": 19,
   "id": "1058c730",
   "metadata": {
    "execution": {
     "iopub.execute_input": "2022-08-05T15:53:22.068381Z",
     "iopub.status.busy": "2022-08-05T15:53:22.067999Z",
     "iopub.status.idle": "2022-08-05T15:53:22.084809Z",
     "shell.execute_reply": "2022-08-05T15:53:22.083828Z"
    },
    "papermill": {
     "duration": 0.095484,
     "end_time": "2022-08-05T15:53:22.086861",
     "exception": false,
     "start_time": "2022-08-05T15:53:21.991377",
     "status": "completed"
    },
    "tags": []
   },
   "outputs": [
    {
     "data": {
      "text/html": [
       "<div>\n",
       "<style scoped>\n",
       "    .dataframe tbody tr th:only-of-type {\n",
       "        vertical-align: middle;\n",
       "    }\n",
       "\n",
       "    .dataframe tbody tr th {\n",
       "        vertical-align: top;\n",
       "    }\n",
       "\n",
       "    .dataframe thead th {\n",
       "        text-align: right;\n",
       "    }\n",
       "</style>\n",
       "<table border=\"1\" class=\"dataframe\">\n",
       "  <thead>\n",
       "    <tr style=\"text-align: right;\">\n",
       "      <th></th>\n",
       "      <th>tweets</th>\n",
       "      <th>labels</th>\n",
       "    </tr>\n",
       "  </thead>\n",
       "  <tbody>\n",
       "    <tr>\n",
       "      <th>28666</th>\n",
       "      <td>oh im hard time cant stop thinking grandpa gra...</td>\n",
       "      <td>2</td>\n",
       "    </tr>\n",
       "    <tr>\n",
       "      <th>10458</th>\n",
       "      <td>sad god may soul rest peace forgive perpetrato...</td>\n",
       "      <td>2</td>\n",
       "    </tr>\n",
       "    <tr>\n",
       "      <th>7495</th>\n",
       "      <td>igbo diaspora incredibly sophisticated excelle...</td>\n",
       "      <td>2</td>\n",
       "    </tr>\n",
       "    <tr>\n",
       "      <th>5886</th>\n",
       "      <td>tw gaslighting abuse ra want share story hope ...</td>\n",
       "      <td>0</td>\n",
       "    </tr>\n",
       "    <tr>\n",
       "      <th>6137</th>\n",
       "      <td>love ops</td>\n",
       "      <td>1</td>\n",
       "    </tr>\n",
       "    <tr>\n",
       "      <th>...</th>\n",
       "      <td>...</td>\n",
       "      <td>...</td>\n",
       "    </tr>\n",
       "    <tr>\n",
       "      <th>18898</th>\n",
       "      <td>final 6 month tatmrparody production involve l...</td>\n",
       "      <td>1</td>\n",
       "    </tr>\n",
       "    <tr>\n",
       "      <th>11798</th>\n",
       "      <td>hahha get u soloq need carry eve</td>\n",
       "      <td>0</td>\n",
       "    </tr>\n",
       "    <tr>\n",
       "      <th>6637</th>\n",
       "      <td>tw capslock attention new one hehehe hello guy...</td>\n",
       "      <td>0</td>\n",
       "    </tr>\n",
       "    <tr>\n",
       "      <th>2575</th>\n",
       "      <td>sighs dream wa party toilet andu lose underwea...</td>\n",
       "      <td>1</td>\n",
       "    </tr>\n",
       "    <tr>\n",
       "      <th>23720</th>\n",
       "      <td>given everything trump try get state legislato...</td>\n",
       "      <td>1</td>\n",
       "    </tr>\n",
       "  </tbody>\n",
       "</table>\n",
       "<p>22494 rows × 2 columns</p>\n",
       "</div>"
      ],
      "text/plain": [
       "                                                  tweets  labels\n",
       "28666  oh im hard time cant stop thinking grandpa gra...       2\n",
       "10458  sad god may soul rest peace forgive perpetrato...       2\n",
       "7495   igbo diaspora incredibly sophisticated excelle...       2\n",
       "5886   tw gaslighting abuse ra want share story hope ...       0\n",
       "6137                                           love ops        1\n",
       "...                                                  ...     ...\n",
       "18898  final 6 month tatmrparody production involve l...       1\n",
       "11798                  hahha get u soloq need carry eve        0\n",
       "6637   tw capslock attention new one hehehe hello guy...       0\n",
       "2575   sighs dream wa party toilet andu lose underwea...       1\n",
       "23720  given everything trump try get state legislato...       1\n",
       "\n",
       "[22494 rows x 2 columns]"
      ]
     },
     "execution_count": 19,
     "metadata": {},
     "output_type": "execute_result"
    }
   ],
   "source": [
    "df_train"
   ]
  },
  {
   "cell_type": "code",
   "execution_count": null,
   "id": "6e2d04f3",
   "metadata": {
    "papermill": {
     "duration": 0.054183,
     "end_time": "2022-08-05T15:53:22.193698",
     "exception": false,
     "start_time": "2022-08-05T15:53:22.139515",
     "status": "completed"
    },
    "tags": []
   },
   "outputs": [],
   "source": []
  }
 ],
 "metadata": {
  "kernelspec": {
   "display_name": "Python 3",
   "language": "python",
   "name": "python3"
  },
  "language_info": {
   "codemirror_mode": {
    "name": "ipython",
    "version": 3
   },
   "file_extension": ".py",
   "mimetype": "text/x-python",
   "name": "python",
   "nbconvert_exporter": "python",
   "pygments_lexer": "ipython3",
   "version": "3.7.12"
  },
  "papermill": {
   "default_parameters": {},
   "duration": 1284.952485,
   "end_time": "2022-08-05T15:53:25.911823",
   "environment_variables": {},
   "exception": null,
   "input_path": "__notebook__.ipynb",
   "output_path": "__notebook__.ipynb",
   "parameters": {},
   "start_time": "2022-08-05T15:32:00.959338",
   "version": "2.3.4"
  },
  "widgets": {
   "application/vnd.jupyter.widget-state+json": {
    "state": {
     "039925d099ad40c3a4f441c7e13122fb": {
      "model_module": "@jupyter-widgets/controls",
      "model_module_version": "1.5.0",
      "model_name": "FloatProgressModel",
      "state": {
       "_dom_classes": [],
       "_model_module": "@jupyter-widgets/controls",
       "_model_module_version": "1.5.0",
       "_model_name": "FloatProgressModel",
       "_view_count": null,
       "_view_module": "@jupyter-widgets/controls",
       "_view_module_version": "1.5.0",
       "_view_name": "ProgressView",
       "bar_style": "success",
       "description": "",
       "description_tooltip": null,
       "layout": "IPY_MODEL_d4a7543921f34bfabcc9de0ae907a7f9",
       "max": 28.0,
       "min": 0.0,
       "orientation": "horizontal",
       "style": "IPY_MODEL_997d164d543240738b219fb4cd84017c",
       "value": 28.0
      }
     },
     "0426837068f541b28481337c9f0f81cd": {
      "model_module": "@jupyter-widgets/base",
      "model_module_version": "1.2.0",
      "model_name": "LayoutModel",
      "state": {
       "_model_module": "@jupyter-widgets/base",
       "_model_module_version": "1.2.0",
       "_model_name": "LayoutModel",
       "_view_count": null,
       "_view_module": "@jupyter-widgets/base",
       "_view_module_version": "1.2.0",
       "_view_name": "LayoutView",
       "align_content": null,
       "align_items": null,
       "align_self": null,
       "border": null,
       "bottom": null,
       "display": null,
       "flex": null,
       "flex_flow": null,
       "grid_area": null,
       "grid_auto_columns": null,
       "grid_auto_flow": null,
       "grid_auto_rows": null,
       "grid_column": null,
       "grid_gap": null,
       "grid_row": null,
       "grid_template_areas": null,
       "grid_template_columns": null,
       "grid_template_rows": null,
       "height": null,
       "justify_content": null,
       "justify_items": null,
       "left": null,
       "margin": null,
       "max_height": null,
       "max_width": null,
       "min_height": null,
       "min_width": null,
       "object_fit": null,
       "object_position": null,
       "order": null,
       "overflow": null,
       "overflow_x": null,
       "overflow_y": null,
       "padding": null,
       "right": null,
       "top": null,
       "visibility": null,
       "width": null
      }
     },
     "0b0ca252d27449b3bd0b09bbd94f83fb": {
      "model_module": "@jupyter-widgets/controls",
      "model_module_version": "1.5.0",
      "model_name": "FloatProgressModel",
      "state": {
       "_dom_classes": [],
       "_model_module": "@jupyter-widgets/controls",
       "_model_module_version": "1.5.0",
       "_model_name": "FloatProgressModel",
       "_view_count": null,
       "_view_module": "@jupyter-widgets/controls",
       "_view_module_version": "1.5.0",
       "_view_name": "ProgressView",
       "bar_style": "success",
       "description": "",
       "description_tooltip": null,
       "layout": "IPY_MODEL_e63f08111546497ba90132e10ecbebed",
       "max": 466062.0,
       "min": 0.0,
       "orientation": "horizontal",
       "style": "IPY_MODEL_a362d99dbe5844658efcf14ff924c014",
       "value": 466062.0
      }
     },
     "0b40d1d5413642e7b0983f954ad750c3": {
      "model_module": "@jupyter-widgets/controls",
      "model_module_version": "1.5.0",
      "model_name": "HTMLModel",
      "state": {
       "_dom_classes": [],
       "_model_module": "@jupyter-widgets/controls",
       "_model_module_version": "1.5.0",
       "_model_name": "HTMLModel",
       "_view_count": null,
       "_view_module": "@jupyter-widgets/controls",
       "_view_module_version": "1.5.0",
       "_view_name": "HTMLView",
       "description": "",
       "description_tooltip": null,
       "layout": "IPY_MODEL_a89f333ee45a4450b6b5a05233fded63",
       "placeholder": "​",
       "style": "IPY_MODEL_b7b779e2af1a428bb14490dd69130cbb",
       "value": "Downloading: 100%"
      }
     },
     "1028faa195654953ace79db4ed3d6e77": {
      "model_module": "@jupyter-widgets/base",
      "model_module_version": "1.2.0",
      "model_name": "LayoutModel",
      "state": {
       "_model_module": "@jupyter-widgets/base",
       "_model_module_version": "1.2.0",
       "_model_name": "LayoutModel",
       "_view_count": null,
       "_view_module": "@jupyter-widgets/base",
       "_view_module_version": "1.2.0",
       "_view_name": "LayoutView",
       "align_content": null,
       "align_items": null,
       "align_self": null,
       "border": null,
       "bottom": null,
       "display": null,
       "flex": null,
       "flex_flow": null,
       "grid_area": null,
       "grid_auto_columns": null,
       "grid_auto_flow": null,
       "grid_auto_rows": null,
       "grid_column": null,
       "grid_gap": null,
       "grid_row": null,
       "grid_template_areas": null,
       "grid_template_columns": null,
       "grid_template_rows": null,
       "height": null,
       "justify_content": null,
       "justify_items": null,
       "left": null,
       "margin": null,
       "max_height": null,
       "max_width": null,
       "min_height": null,
       "min_width": null,
       "object_fit": null,
       "object_position": null,
       "order": null,
       "overflow": null,
       "overflow_x": null,
       "overflow_y": null,
       "padding": null,
       "right": null,
       "top": null,
       "visibility": null,
       "width": null
      }
     },
     "1251787a07524bb89816d6a84a0f5c30": {
      "model_module": "@jupyter-widgets/controls",
      "model_module_version": "1.5.0",
      "model_name": "DescriptionStyleModel",
      "state": {
       "_model_module": "@jupyter-widgets/controls",
       "_model_module_version": "1.5.0",
       "_model_name": "DescriptionStyleModel",
       "_view_count": null,
       "_view_module": "@jupyter-widgets/base",
       "_view_module_version": "1.2.0",
       "_view_name": "StyleView",
       "description_width": ""
      }
     },
     "20ea3919aaf7458294ee5aa305218074": {
      "model_module": "@jupyter-widgets/controls",
      "model_module_version": "1.5.0",
      "model_name": "DescriptionStyleModel",
      "state": {
       "_model_module": "@jupyter-widgets/controls",
       "_model_module_version": "1.5.0",
       "_model_name": "DescriptionStyleModel",
       "_view_count": null,
       "_view_module": "@jupyter-widgets/base",
       "_view_module_version": "1.2.0",
       "_view_name": "StyleView",
       "description_width": ""
      }
     },
     "2a6754f4fc0d4b03b483ad20debf158d": {
      "model_module": "@jupyter-widgets/controls",
      "model_module_version": "1.5.0",
      "model_name": "HTMLModel",
      "state": {
       "_dom_classes": [],
       "_model_module": "@jupyter-widgets/controls",
       "_model_module_version": "1.5.0",
       "_model_name": "HTMLModel",
       "_view_count": null,
       "_view_module": "@jupyter-widgets/controls",
       "_view_module_version": "1.5.0",
       "_view_name": "HTMLView",
       "description": "",
       "description_tooltip": null,
       "layout": "IPY_MODEL_c2ed24ffed0d4357b94e5180cdd738c5",
       "placeholder": "​",
       "style": "IPY_MODEL_7b0cd53a122a4de6878d3ac50286c76d",
       "value": " 28.0/28.0 [00:00&lt;00:00, 1.05kB/s]"
      }
     },
     "3023e19177e34da3bc870d54609fc173": {
      "model_module": "@jupyter-widgets/controls",
      "model_module_version": "1.5.0",
      "model_name": "FloatProgressModel",
      "state": {
       "_dom_classes": [],
       "_model_module": "@jupyter-widgets/controls",
       "_model_module_version": "1.5.0",
       "_model_name": "FloatProgressModel",
       "_view_count": null,
       "_view_module": "@jupyter-widgets/controls",
       "_view_module_version": "1.5.0",
       "_view_name": "ProgressView",
       "bar_style": "success",
       "description": "",
       "description_tooltip": null,
       "layout": "IPY_MODEL_3a7817b01f5e40c28fc04840c04d20c9",
       "max": 570.0,
       "min": 0.0,
       "orientation": "horizontal",
       "style": "IPY_MODEL_542513e807044402a160ccc8fd0d6bf6",
       "value": 570.0
      }
     },
     "3447e42bfbf44b3c9bcca2a93c431816": {
      "model_module": "@jupyter-widgets/controls",
      "model_module_version": "1.5.0",
      "model_name": "HTMLModel",
      "state": {
       "_dom_classes": [],
       "_model_module": "@jupyter-widgets/controls",
       "_model_module_version": "1.5.0",
       "_model_name": "HTMLModel",
       "_view_count": null,
       "_view_module": "@jupyter-widgets/controls",
       "_view_module_version": "1.5.0",
       "_view_name": "HTMLView",
       "description": "",
       "description_tooltip": null,
       "layout": "IPY_MODEL_9a41685ecc2545cba18c8593d4a1db23",
       "placeholder": "​",
       "style": "IPY_MODEL_1251787a07524bb89816d6a84a0f5c30",
       "value": " 226k/226k [00:00&lt;00:00, 882kB/s]"
      }
     },
     "3a7817b01f5e40c28fc04840c04d20c9": {
      "model_module": "@jupyter-widgets/base",
      "model_module_version": "1.2.0",
      "model_name": "LayoutModel",
      "state": {
       "_model_module": "@jupyter-widgets/base",
       "_model_module_version": "1.2.0",
       "_model_name": "LayoutModel",
       "_view_count": null,
       "_view_module": "@jupyter-widgets/base",
       "_view_module_version": "1.2.0",
       "_view_name": "LayoutView",
       "align_content": null,
       "align_items": null,
       "align_self": null,
       "border": null,
       "bottom": null,
       "display": null,
       "flex": null,
       "flex_flow": null,
       "grid_area": null,
       "grid_auto_columns": null,
       "grid_auto_flow": null,
       "grid_auto_rows": null,
       "grid_column": null,
       "grid_gap": null,
       "grid_row": null,
       "grid_template_areas": null,
       "grid_template_columns": null,
       "grid_template_rows": null,
       "height": null,
       "justify_content": null,
       "justify_items": null,
       "left": null,
       "margin": null,
       "max_height": null,
       "max_width": null,
       "min_height": null,
       "min_width": null,
       "object_fit": null,
       "object_position": null,
       "order": null,
       "overflow": null,
       "overflow_x": null,
       "overflow_y": null,
       "padding": null,
       "right": null,
       "top": null,
       "visibility": null,
       "width": null
      }
     },
     "3b869ab08e7b4cfaa2dee78e1d2617b1": {
      "model_module": "@jupyter-widgets/controls",
      "model_module_version": "1.5.0",
      "model_name": "ProgressStyleModel",
      "state": {
       "_model_module": "@jupyter-widgets/controls",
       "_model_module_version": "1.5.0",
       "_model_name": "ProgressStyleModel",
       "_view_count": null,
       "_view_module": "@jupyter-widgets/base",
       "_view_module_version": "1.2.0",
       "_view_name": "StyleView",
       "bar_color": null,
       "description_width": ""
      }
     },
     "3e468f475b7e4a2cb3b5d8b8a357b0f5": {
      "model_module": "@jupyter-widgets/base",
      "model_module_version": "1.2.0",
      "model_name": "LayoutModel",
      "state": {
       "_model_module": "@jupyter-widgets/base",
       "_model_module_version": "1.2.0",
       "_model_name": "LayoutModel",
       "_view_count": null,
       "_view_module": "@jupyter-widgets/base",
       "_view_module_version": "1.2.0",
       "_view_name": "LayoutView",
       "align_content": null,
       "align_items": null,
       "align_self": null,
       "border": null,
       "bottom": null,
       "display": null,
       "flex": null,
       "flex_flow": null,
       "grid_area": null,
       "grid_auto_columns": null,
       "grid_auto_flow": null,
       "grid_auto_rows": null,
       "grid_column": null,
       "grid_gap": null,
       "grid_row": null,
       "grid_template_areas": null,
       "grid_template_columns": null,
       "grid_template_rows": null,
       "height": null,
       "justify_content": null,
       "justify_items": null,
       "left": null,
       "margin": null,
       "max_height": null,
       "max_width": null,
       "min_height": null,
       "min_width": null,
       "object_fit": null,
       "object_position": null,
       "order": null,
       "overflow": null,
       "overflow_x": null,
       "overflow_y": null,
       "padding": null,
       "right": null,
       "top": null,
       "visibility": null,
       "width": null
      }
     },
     "411ea8cd24554193979491c71c5f1896": {
      "model_module": "@jupyter-widgets/base",
      "model_module_version": "1.2.0",
      "model_name": "LayoutModel",
      "state": {
       "_model_module": "@jupyter-widgets/base",
       "_model_module_version": "1.2.0",
       "_model_name": "LayoutModel",
       "_view_count": null,
       "_view_module": "@jupyter-widgets/base",
       "_view_module_version": "1.2.0",
       "_view_name": "LayoutView",
       "align_content": null,
       "align_items": null,
       "align_self": null,
       "border": null,
       "bottom": null,
       "display": null,
       "flex": null,
       "flex_flow": null,
       "grid_area": null,
       "grid_auto_columns": null,
       "grid_auto_flow": null,
       "grid_auto_rows": null,
       "grid_column": null,
       "grid_gap": null,
       "grid_row": null,
       "grid_template_areas": null,
       "grid_template_columns": null,
       "grid_template_rows": null,
       "height": null,
       "justify_content": null,
       "justify_items": null,
       "left": null,
       "margin": null,
       "max_height": null,
       "max_width": null,
       "min_height": null,
       "min_width": null,
       "object_fit": null,
       "object_position": null,
       "order": null,
       "overflow": null,
       "overflow_x": null,
       "overflow_y": null,
       "padding": null,
       "right": null,
       "top": null,
       "visibility": null,
       "width": null
      }
     },
     "427006ed60eb4cf7a7bbf07e3dc92912": {
      "model_module": "@jupyter-widgets/controls",
      "model_module_version": "1.5.0",
      "model_name": "HBoxModel",
      "state": {
       "_dom_classes": [],
       "_model_module": "@jupyter-widgets/controls",
       "_model_module_version": "1.5.0",
       "_model_name": "HBoxModel",
       "_view_count": null,
       "_view_module": "@jupyter-widgets/controls",
       "_view_module_version": "1.5.0",
       "_view_name": "HBoxView",
       "box_style": "",
       "children": [
        "IPY_MODEL_cb33ccd396944958a1895a531726caf5",
        "IPY_MODEL_3023e19177e34da3bc870d54609fc173",
        "IPY_MODEL_75abbfd71c824d81a5bb36768ed9f237"
       ],
       "layout": "IPY_MODEL_bea7e23735aa41da8bf032b122495c79"
      }
     },
     "4e45458ee3b9400e91668247da6a1e5f": {
      "model_module": "@jupyter-widgets/controls",
      "model_module_version": "1.5.0",
      "model_name": "HTMLModel",
      "state": {
       "_dom_classes": [],
       "_model_module": "@jupyter-widgets/controls",
       "_model_module_version": "1.5.0",
       "_model_name": "HTMLModel",
       "_view_count": null,
       "_view_module": "@jupyter-widgets/controls",
       "_view_module_version": "1.5.0",
       "_view_name": "HTMLView",
       "description": "",
       "description_tooltip": null,
       "layout": "IPY_MODEL_8eea89eca3634fc6a8bf300f39d14797",
       "placeholder": "​",
       "style": "IPY_MODEL_74bb0734f88b4cceb17855f01eff477c",
       "value": "Downloading: 100%"
      }
     },
     "513e002cdc5f48f4875200781664d116": {
      "model_module": "@jupyter-widgets/base",
      "model_module_version": "1.2.0",
      "model_name": "LayoutModel",
      "state": {
       "_model_module": "@jupyter-widgets/base",
       "_model_module_version": "1.2.0",
       "_model_name": "LayoutModel",
       "_view_count": null,
       "_view_module": "@jupyter-widgets/base",
       "_view_module_version": "1.2.0",
       "_view_name": "LayoutView",
       "align_content": null,
       "align_items": null,
       "align_self": null,
       "border": null,
       "bottom": null,
       "display": null,
       "flex": null,
       "flex_flow": null,
       "grid_area": null,
       "grid_auto_columns": null,
       "grid_auto_flow": null,
       "grid_auto_rows": null,
       "grid_column": null,
       "grid_gap": null,
       "grid_row": null,
       "grid_template_areas": null,
       "grid_template_columns": null,
       "grid_template_rows": null,
       "height": null,
       "justify_content": null,
       "justify_items": null,
       "left": null,
       "margin": null,
       "max_height": null,
       "max_width": null,
       "min_height": null,
       "min_width": null,
       "object_fit": null,
       "object_position": null,
       "order": null,
       "overflow": null,
       "overflow_x": null,
       "overflow_y": null,
       "padding": null,
       "right": null,
       "top": null,
       "visibility": null,
       "width": null
      }
     },
     "5387db3fcba04c30ac4605b87e55e7d7": {
      "model_module": "@jupyter-widgets/controls",
      "model_module_version": "1.5.0",
      "model_name": "DescriptionStyleModel",
      "state": {
       "_model_module": "@jupyter-widgets/controls",
       "_model_module_version": "1.5.0",
       "_model_name": "DescriptionStyleModel",
       "_view_count": null,
       "_view_module": "@jupyter-widgets/base",
       "_view_module_version": "1.2.0",
       "_view_name": "StyleView",
       "description_width": ""
      }
     },
     "542513e807044402a160ccc8fd0d6bf6": {
      "model_module": "@jupyter-widgets/controls",
      "model_module_version": "1.5.0",
      "model_name": "ProgressStyleModel",
      "state": {
       "_model_module": "@jupyter-widgets/controls",
       "_model_module_version": "1.5.0",
       "_model_name": "ProgressStyleModel",
       "_view_count": null,
       "_view_module": "@jupyter-widgets/base",
       "_view_module_version": "1.2.0",
       "_view_name": "StyleView",
       "bar_color": null,
       "description_width": ""
      }
     },
     "56ce4f5197d748f3a421377ed46e2607": {
      "model_module": "@jupyter-widgets/base",
      "model_module_version": "1.2.0",
      "model_name": "LayoutModel",
      "state": {
       "_model_module": "@jupyter-widgets/base",
       "_model_module_version": "1.2.0",
       "_model_name": "LayoutModel",
       "_view_count": null,
       "_view_module": "@jupyter-widgets/base",
       "_view_module_version": "1.2.0",
       "_view_name": "LayoutView",
       "align_content": null,
       "align_items": null,
       "align_self": null,
       "border": null,
       "bottom": null,
       "display": null,
       "flex": null,
       "flex_flow": null,
       "grid_area": null,
       "grid_auto_columns": null,
       "grid_auto_flow": null,
       "grid_auto_rows": null,
       "grid_column": null,
       "grid_gap": null,
       "grid_row": null,
       "grid_template_areas": null,
       "grid_template_columns": null,
       "grid_template_rows": null,
       "height": null,
       "justify_content": null,
       "justify_items": null,
       "left": null,
       "margin": null,
       "max_height": null,
       "max_width": null,
       "min_height": null,
       "min_width": null,
       "object_fit": null,
       "object_position": null,
       "order": null,
       "overflow": null,
       "overflow_x": null,
       "overflow_y": null,
       "padding": null,
       "right": null,
       "top": null,
       "visibility": null,
       "width": null
      }
     },
     "5b77bc741e2944e6a3040f8abfc6cdcb": {
      "model_module": "@jupyter-widgets/controls",
      "model_module_version": "1.5.0",
      "model_name": "ProgressStyleModel",
      "state": {
       "_model_module": "@jupyter-widgets/controls",
       "_model_module_version": "1.5.0",
       "_model_name": "ProgressStyleModel",
       "_view_count": null,
       "_view_module": "@jupyter-widgets/base",
       "_view_module_version": "1.2.0",
       "_view_name": "StyleView",
       "bar_color": null,
       "description_width": ""
      }
     },
     "5d075c5376f64160aae825a46da3a0d4": {
      "model_module": "@jupyter-widgets/base",
      "model_module_version": "1.2.0",
      "model_name": "LayoutModel",
      "state": {
       "_model_module": "@jupyter-widgets/base",
       "_model_module_version": "1.2.0",
       "_model_name": "LayoutModel",
       "_view_count": null,
       "_view_module": "@jupyter-widgets/base",
       "_view_module_version": "1.2.0",
       "_view_name": "LayoutView",
       "align_content": null,
       "align_items": null,
       "align_self": null,
       "border": null,
       "bottom": null,
       "display": null,
       "flex": null,
       "flex_flow": null,
       "grid_area": null,
       "grid_auto_columns": null,
       "grid_auto_flow": null,
       "grid_auto_rows": null,
       "grid_column": null,
       "grid_gap": null,
       "grid_row": null,
       "grid_template_areas": null,
       "grid_template_columns": null,
       "grid_template_rows": null,
       "height": null,
       "justify_content": null,
       "justify_items": null,
       "left": null,
       "margin": null,
       "max_height": null,
       "max_width": null,
       "min_height": null,
       "min_width": null,
       "object_fit": null,
       "object_position": null,
       "order": null,
       "overflow": null,
       "overflow_x": null,
       "overflow_y": null,
       "padding": null,
       "right": null,
       "top": null,
       "visibility": null,
       "width": null
      }
     },
     "5e855ff109934627b8675b264daa8402": {
      "model_module": "@jupyter-widgets/controls",
      "model_module_version": "1.5.0",
      "model_name": "HTMLModel",
      "state": {
       "_dom_classes": [],
       "_model_module": "@jupyter-widgets/controls",
       "_model_module_version": "1.5.0",
       "_model_name": "HTMLModel",
       "_view_count": null,
       "_view_module": "@jupyter-widgets/controls",
       "_view_module_version": "1.5.0",
       "_view_name": "HTMLView",
       "description": "",
       "description_tooltip": null,
       "layout": "IPY_MODEL_9410f2f7fe024227bd94d40470c58276",
       "placeholder": "​",
       "style": "IPY_MODEL_6bb79307cadb4db0a74003e251a77350",
       "value": " 455k/455k [00:00&lt;00:00, 911kB/s]"
      }
     },
     "5ebda2d7ca8b435f8c8d5080ef05c526": {
      "model_module": "@jupyter-widgets/base",
      "model_module_version": "1.2.0",
      "model_name": "LayoutModel",
      "state": {
       "_model_module": "@jupyter-widgets/base",
       "_model_module_version": "1.2.0",
       "_model_name": "LayoutModel",
       "_view_count": null,
       "_view_module": "@jupyter-widgets/base",
       "_view_module_version": "1.2.0",
       "_view_name": "LayoutView",
       "align_content": null,
       "align_items": null,
       "align_self": null,
       "border": null,
       "bottom": null,
       "display": null,
       "flex": null,
       "flex_flow": null,
       "grid_area": null,
       "grid_auto_columns": null,
       "grid_auto_flow": null,
       "grid_auto_rows": null,
       "grid_column": null,
       "grid_gap": null,
       "grid_row": null,
       "grid_template_areas": null,
       "grid_template_columns": null,
       "grid_template_rows": null,
       "height": null,
       "justify_content": null,
       "justify_items": null,
       "left": null,
       "margin": null,
       "max_height": null,
       "max_width": null,
       "min_height": null,
       "min_width": null,
       "object_fit": null,
       "object_position": null,
       "order": null,
       "overflow": null,
       "overflow_x": null,
       "overflow_y": null,
       "padding": null,
       "right": null,
       "top": null,
       "visibility": null,
       "width": null
      }
     },
     "5fb0d034622e4ee9bfb7f7f17333a975": {
      "model_module": "@jupyter-widgets/controls",
      "model_module_version": "1.5.0",
      "model_name": "HBoxModel",
      "state": {
       "_dom_classes": [],
       "_model_module": "@jupyter-widgets/controls",
       "_model_module_version": "1.5.0",
       "_model_name": "HBoxModel",
       "_view_count": null,
       "_view_module": "@jupyter-widgets/controls",
       "_view_module_version": "1.5.0",
       "_view_name": "HBoxView",
       "box_style": "",
       "children": [
        "IPY_MODEL_4e45458ee3b9400e91668247da6a1e5f",
        "IPY_MODEL_b3abb5c60f2b47fd80f082fdd97a68ee",
        "IPY_MODEL_3447e42bfbf44b3c9bcca2a93c431816"
       ],
       "layout": "IPY_MODEL_b2b3f76196134629943dbba7baabcf6a"
      }
     },
     "6672cc9190be45e1b9cb8a02f332d428": {
      "model_module": "@jupyter-widgets/controls",
      "model_module_version": "1.5.0",
      "model_name": "FloatProgressModel",
      "state": {
       "_dom_classes": [],
       "_model_module": "@jupyter-widgets/controls",
       "_model_module_version": "1.5.0",
       "_model_name": "FloatProgressModel",
       "_view_count": null,
       "_view_module": "@jupyter-widgets/controls",
       "_view_module_version": "1.5.0",
       "_view_name": "ProgressView",
       "bar_style": "success",
       "description": "",
       "description_tooltip": null,
       "layout": "IPY_MODEL_513e002cdc5f48f4875200781664d116",
       "max": 536063208.0,
       "min": 0.0,
       "orientation": "horizontal",
       "style": "IPY_MODEL_5b77bc741e2944e6a3040f8abfc6cdcb",
       "value": 536063208.0
      }
     },
     "6bb79307cadb4db0a74003e251a77350": {
      "model_module": "@jupyter-widgets/controls",
      "model_module_version": "1.5.0",
      "model_name": "DescriptionStyleModel",
      "state": {
       "_model_module": "@jupyter-widgets/controls",
       "_model_module_version": "1.5.0",
       "_model_name": "DescriptionStyleModel",
       "_view_count": null,
       "_view_module": "@jupyter-widgets/base",
       "_view_module_version": "1.2.0",
       "_view_name": "StyleView",
       "description_width": ""
      }
     },
     "6fbed103779f43ae9761071be51983fd": {
      "model_module": "@jupyter-widgets/controls",
      "model_module_version": "1.5.0",
      "model_name": "HTMLModel",
      "state": {
       "_dom_classes": [],
       "_model_module": "@jupyter-widgets/controls",
       "_model_module_version": "1.5.0",
       "_model_name": "HTMLModel",
       "_view_count": null,
       "_view_module": "@jupyter-widgets/controls",
       "_view_module_version": "1.5.0",
       "_view_name": "HTMLView",
       "description": "",
       "description_tooltip": null,
       "layout": "IPY_MODEL_5ebda2d7ca8b435f8c8d5080ef05c526",
       "placeholder": "​",
       "style": "IPY_MODEL_9dfc86df168040c78231a0889f49b11c",
       "value": " 511M/511M [00:31&lt;00:00, 18.9MB/s]"
      }
     },
     "74bb0734f88b4cceb17855f01eff477c": {
      "model_module": "@jupyter-widgets/controls",
      "model_module_version": "1.5.0",
      "model_name": "DescriptionStyleModel",
      "state": {
       "_model_module": "@jupyter-widgets/controls",
       "_model_module_version": "1.5.0",
       "_model_name": "DescriptionStyleModel",
       "_view_count": null,
       "_view_module": "@jupyter-widgets/base",
       "_view_module_version": "1.2.0",
       "_view_name": "StyleView",
       "description_width": ""
      }
     },
     "75abbfd71c824d81a5bb36768ed9f237": {
      "model_module": "@jupyter-widgets/controls",
      "model_module_version": "1.5.0",
      "model_name": "HTMLModel",
      "state": {
       "_dom_classes": [],
       "_model_module": "@jupyter-widgets/controls",
       "_model_module_version": "1.5.0",
       "_model_name": "HTMLModel",
       "_view_count": null,
       "_view_module": "@jupyter-widgets/controls",
       "_view_module_version": "1.5.0",
       "_view_name": "HTMLView",
       "description": "",
       "description_tooltip": null,
       "layout": "IPY_MODEL_b0aab01245b241669dd255408051c16f",
       "placeholder": "​",
       "style": "IPY_MODEL_ac8342e7c76f40558665b5c59f98a0e9",
       "value": " 570/570 [00:00&lt;00:00, 22.2kB/s]"
      }
     },
     "7b0cd53a122a4de6878d3ac50286c76d": {
      "model_module": "@jupyter-widgets/controls",
      "model_module_version": "1.5.0",
      "model_name": "DescriptionStyleModel",
      "state": {
       "_model_module": "@jupyter-widgets/controls",
       "_model_module_version": "1.5.0",
       "_model_name": "DescriptionStyleModel",
       "_view_count": null,
       "_view_module": "@jupyter-widgets/base",
       "_view_module_version": "1.2.0",
       "_view_name": "StyleView",
       "description_width": ""
      }
     },
     "8eea89eca3634fc6a8bf300f39d14797": {
      "model_module": "@jupyter-widgets/base",
      "model_module_version": "1.2.0",
      "model_name": "LayoutModel",
      "state": {
       "_model_module": "@jupyter-widgets/base",
       "_model_module_version": "1.2.0",
       "_model_name": "LayoutModel",
       "_view_count": null,
       "_view_module": "@jupyter-widgets/base",
       "_view_module_version": "1.2.0",
       "_view_name": "LayoutView",
       "align_content": null,
       "align_items": null,
       "align_self": null,
       "border": null,
       "bottom": null,
       "display": null,
       "flex": null,
       "flex_flow": null,
       "grid_area": null,
       "grid_auto_columns": null,
       "grid_auto_flow": null,
       "grid_auto_rows": null,
       "grid_column": null,
       "grid_gap": null,
       "grid_row": null,
       "grid_template_areas": null,
       "grid_template_columns": null,
       "grid_template_rows": null,
       "height": null,
       "justify_content": null,
       "justify_items": null,
       "left": null,
       "margin": null,
       "max_height": null,
       "max_width": null,
       "min_height": null,
       "min_width": null,
       "object_fit": null,
       "object_position": null,
       "order": null,
       "overflow": null,
       "overflow_x": null,
       "overflow_y": null,
       "padding": null,
       "right": null,
       "top": null,
       "visibility": null,
       "width": null
      }
     },
     "9410f2f7fe024227bd94d40470c58276": {
      "model_module": "@jupyter-widgets/base",
      "model_module_version": "1.2.0",
      "model_name": "LayoutModel",
      "state": {
       "_model_module": "@jupyter-widgets/base",
       "_model_module_version": "1.2.0",
       "_model_name": "LayoutModel",
       "_view_count": null,
       "_view_module": "@jupyter-widgets/base",
       "_view_module_version": "1.2.0",
       "_view_name": "LayoutView",
       "align_content": null,
       "align_items": null,
       "align_self": null,
       "border": null,
       "bottom": null,
       "display": null,
       "flex": null,
       "flex_flow": null,
       "grid_area": null,
       "grid_auto_columns": null,
       "grid_auto_flow": null,
       "grid_auto_rows": null,
       "grid_column": null,
       "grid_gap": null,
       "grid_row": null,
       "grid_template_areas": null,
       "grid_template_columns": null,
       "grid_template_rows": null,
       "height": null,
       "justify_content": null,
       "justify_items": null,
       "left": null,
       "margin": null,
       "max_height": null,
       "max_width": null,
       "min_height": null,
       "min_width": null,
       "object_fit": null,
       "object_position": null,
       "order": null,
       "overflow": null,
       "overflow_x": null,
       "overflow_y": null,
       "padding": null,
       "right": null,
       "top": null,
       "visibility": null,
       "width": null
      }
     },
     "95ce062d55f44f179b9c76888322cf70": {
      "model_module": "@jupyter-widgets/controls",
      "model_module_version": "1.5.0",
      "model_name": "DescriptionStyleModel",
      "state": {
       "_model_module": "@jupyter-widgets/controls",
       "_model_module_version": "1.5.0",
       "_model_name": "DescriptionStyleModel",
       "_view_count": null,
       "_view_module": "@jupyter-widgets/base",
       "_view_module_version": "1.2.0",
       "_view_name": "StyleView",
       "description_width": ""
      }
     },
     "997d164d543240738b219fb4cd84017c": {
      "model_module": "@jupyter-widgets/controls",
      "model_module_version": "1.5.0",
      "model_name": "ProgressStyleModel",
      "state": {
       "_model_module": "@jupyter-widgets/controls",
       "_model_module_version": "1.5.0",
       "_model_name": "ProgressStyleModel",
       "_view_count": null,
       "_view_module": "@jupyter-widgets/base",
       "_view_module_version": "1.2.0",
       "_view_name": "StyleView",
       "bar_color": null,
       "description_width": ""
      }
     },
     "9a41685ecc2545cba18c8593d4a1db23": {
      "model_module": "@jupyter-widgets/base",
      "model_module_version": "1.2.0",
      "model_name": "LayoutModel",
      "state": {
       "_model_module": "@jupyter-widgets/base",
       "_model_module_version": "1.2.0",
       "_model_name": "LayoutModel",
       "_view_count": null,
       "_view_module": "@jupyter-widgets/base",
       "_view_module_version": "1.2.0",
       "_view_name": "LayoutView",
       "align_content": null,
       "align_items": null,
       "align_self": null,
       "border": null,
       "bottom": null,
       "display": null,
       "flex": null,
       "flex_flow": null,
       "grid_area": null,
       "grid_auto_columns": null,
       "grid_auto_flow": null,
       "grid_auto_rows": null,
       "grid_column": null,
       "grid_gap": null,
       "grid_row": null,
       "grid_template_areas": null,
       "grid_template_columns": null,
       "grid_template_rows": null,
       "height": null,
       "justify_content": null,
       "justify_items": null,
       "left": null,
       "margin": null,
       "max_height": null,
       "max_width": null,
       "min_height": null,
       "min_width": null,
       "object_fit": null,
       "object_position": null,
       "order": null,
       "overflow": null,
       "overflow_x": null,
       "overflow_y": null,
       "padding": null,
       "right": null,
       "top": null,
       "visibility": null,
       "width": null
      }
     },
     "9dfc86df168040c78231a0889f49b11c": {
      "model_module": "@jupyter-widgets/controls",
      "model_module_version": "1.5.0",
      "model_name": "DescriptionStyleModel",
      "state": {
       "_model_module": "@jupyter-widgets/controls",
       "_model_module_version": "1.5.0",
       "_model_name": "DescriptionStyleModel",
       "_view_count": null,
       "_view_module": "@jupyter-widgets/base",
       "_view_module_version": "1.2.0",
       "_view_name": "StyleView",
       "description_width": ""
      }
     },
     "a362d99dbe5844658efcf14ff924c014": {
      "model_module": "@jupyter-widgets/controls",
      "model_module_version": "1.5.0",
      "model_name": "ProgressStyleModel",
      "state": {
       "_model_module": "@jupyter-widgets/controls",
       "_model_module_version": "1.5.0",
       "_model_name": "ProgressStyleModel",
       "_view_count": null,
       "_view_module": "@jupyter-widgets/base",
       "_view_module_version": "1.2.0",
       "_view_name": "StyleView",
       "bar_color": null,
       "description_width": ""
      }
     },
     "a89f333ee45a4450b6b5a05233fded63": {
      "model_module": "@jupyter-widgets/base",
      "model_module_version": "1.2.0",
      "model_name": "LayoutModel",
      "state": {
       "_model_module": "@jupyter-widgets/base",
       "_model_module_version": "1.2.0",
       "_model_name": "LayoutModel",
       "_view_count": null,
       "_view_module": "@jupyter-widgets/base",
       "_view_module_version": "1.2.0",
       "_view_name": "LayoutView",
       "align_content": null,
       "align_items": null,
       "align_self": null,
       "border": null,
       "bottom": null,
       "display": null,
       "flex": null,
       "flex_flow": null,
       "grid_area": null,
       "grid_auto_columns": null,
       "grid_auto_flow": null,
       "grid_auto_rows": null,
       "grid_column": null,
       "grid_gap": null,
       "grid_row": null,
       "grid_template_areas": null,
       "grid_template_columns": null,
       "grid_template_rows": null,
       "height": null,
       "justify_content": null,
       "justify_items": null,
       "left": null,
       "margin": null,
       "max_height": null,
       "max_width": null,
       "min_height": null,
       "min_width": null,
       "object_fit": null,
       "object_position": null,
       "order": null,
       "overflow": null,
       "overflow_x": null,
       "overflow_y": null,
       "padding": null,
       "right": null,
       "top": null,
       "visibility": null,
       "width": null
      }
     },
     "aa3de166d63a494dbd8d719c1e5890d3": {
      "model_module": "@jupyter-widgets/controls",
      "model_module_version": "1.5.0",
      "model_name": "HBoxModel",
      "state": {
       "_dom_classes": [],
       "_model_module": "@jupyter-widgets/controls",
       "_model_module_version": "1.5.0",
       "_model_name": "HBoxModel",
       "_view_count": null,
       "_view_module": "@jupyter-widgets/controls",
       "_view_module_version": "1.5.0",
       "_view_name": "HBoxView",
       "box_style": "",
       "children": [
        "IPY_MODEL_d15c47ddadef460882b2c95963564594",
        "IPY_MODEL_6672cc9190be45e1b9cb8a02f332d428",
        "IPY_MODEL_6fbed103779f43ae9761071be51983fd"
       ],
       "layout": "IPY_MODEL_0426837068f541b28481337c9f0f81cd"
      }
     },
     "ac8342e7c76f40558665b5c59f98a0e9": {
      "model_module": "@jupyter-widgets/controls",
      "model_module_version": "1.5.0",
      "model_name": "DescriptionStyleModel",
      "state": {
       "_model_module": "@jupyter-widgets/controls",
       "_model_module_version": "1.5.0",
       "_model_name": "DescriptionStyleModel",
       "_view_count": null,
       "_view_module": "@jupyter-widgets/base",
       "_view_module_version": "1.2.0",
       "_view_name": "StyleView",
       "description_width": ""
      }
     },
     "af0fc9ccf6e44664844317ee9823babe": {
      "model_module": "@jupyter-widgets/controls",
      "model_module_version": "1.5.0",
      "model_name": "HTMLModel",
      "state": {
       "_dom_classes": [],
       "_model_module": "@jupyter-widgets/controls",
       "_model_module_version": "1.5.0",
       "_model_name": "HTMLModel",
       "_view_count": null,
       "_view_module": "@jupyter-widgets/controls",
       "_view_module_version": "1.5.0",
       "_view_name": "HTMLView",
       "description": "",
       "description_tooltip": null,
       "layout": "IPY_MODEL_411ea8cd24554193979491c71c5f1896",
       "placeholder": "​",
       "style": "IPY_MODEL_20ea3919aaf7458294ee5aa305218074",
       "value": "Downloading: 100%"
      }
     },
     "b0aab01245b241669dd255408051c16f": {
      "model_module": "@jupyter-widgets/base",
      "model_module_version": "1.2.0",
      "model_name": "LayoutModel",
      "state": {
       "_model_module": "@jupyter-widgets/base",
       "_model_module_version": "1.2.0",
       "_model_name": "LayoutModel",
       "_view_count": null,
       "_view_module": "@jupyter-widgets/base",
       "_view_module_version": "1.2.0",
       "_view_name": "LayoutView",
       "align_content": null,
       "align_items": null,
       "align_self": null,
       "border": null,
       "bottom": null,
       "display": null,
       "flex": null,
       "flex_flow": null,
       "grid_area": null,
       "grid_auto_columns": null,
       "grid_auto_flow": null,
       "grid_auto_rows": null,
       "grid_column": null,
       "grid_gap": null,
       "grid_row": null,
       "grid_template_areas": null,
       "grid_template_columns": null,
       "grid_template_rows": null,
       "height": null,
       "justify_content": null,
       "justify_items": null,
       "left": null,
       "margin": null,
       "max_height": null,
       "max_width": null,
       "min_height": null,
       "min_width": null,
       "object_fit": null,
       "object_position": null,
       "order": null,
       "overflow": null,
       "overflow_x": null,
       "overflow_y": null,
       "padding": null,
       "right": null,
       "top": null,
       "visibility": null,
       "width": null
      }
     },
     "b2b3f76196134629943dbba7baabcf6a": {
      "model_module": "@jupyter-widgets/base",
      "model_module_version": "1.2.0",
      "model_name": "LayoutModel",
      "state": {
       "_model_module": "@jupyter-widgets/base",
       "_model_module_version": "1.2.0",
       "_model_name": "LayoutModel",
       "_view_count": null,
       "_view_module": "@jupyter-widgets/base",
       "_view_module_version": "1.2.0",
       "_view_name": "LayoutView",
       "align_content": null,
       "align_items": null,
       "align_self": null,
       "border": null,
       "bottom": null,
       "display": null,
       "flex": null,
       "flex_flow": null,
       "grid_area": null,
       "grid_auto_columns": null,
       "grid_auto_flow": null,
       "grid_auto_rows": null,
       "grid_column": null,
       "grid_gap": null,
       "grid_row": null,
       "grid_template_areas": null,
       "grid_template_columns": null,
       "grid_template_rows": null,
       "height": null,
       "justify_content": null,
       "justify_items": null,
       "left": null,
       "margin": null,
       "max_height": null,
       "max_width": null,
       "min_height": null,
       "min_width": null,
       "object_fit": null,
       "object_position": null,
       "order": null,
       "overflow": null,
       "overflow_x": null,
       "overflow_y": null,
       "padding": null,
       "right": null,
       "top": null,
       "visibility": null,
       "width": null
      }
     },
     "b3abb5c60f2b47fd80f082fdd97a68ee": {
      "model_module": "@jupyter-widgets/controls",
      "model_module_version": "1.5.0",
      "model_name": "FloatProgressModel",
      "state": {
       "_dom_classes": [],
       "_model_module": "@jupyter-widgets/controls",
       "_model_module_version": "1.5.0",
       "_model_name": "FloatProgressModel",
       "_view_count": null,
       "_view_module": "@jupyter-widgets/controls",
       "_view_module_version": "1.5.0",
       "_view_name": "ProgressView",
       "bar_style": "success",
       "description": "",
       "description_tooltip": null,
       "layout": "IPY_MODEL_3e468f475b7e4a2cb3b5d8b8a357b0f5",
       "max": 231508.0,
       "min": 0.0,
       "orientation": "horizontal",
       "style": "IPY_MODEL_3b869ab08e7b4cfaa2dee78e1d2617b1",
       "value": 231508.0
      }
     },
     "b7b779e2af1a428bb14490dd69130cbb": {
      "model_module": "@jupyter-widgets/controls",
      "model_module_version": "1.5.0",
      "model_name": "DescriptionStyleModel",
      "state": {
       "_model_module": "@jupyter-widgets/controls",
       "_model_module_version": "1.5.0",
       "_model_name": "DescriptionStyleModel",
       "_view_count": null,
       "_view_module": "@jupyter-widgets/base",
       "_view_module_version": "1.2.0",
       "_view_name": "StyleView",
       "description_width": ""
      }
     },
     "bd2f59e19d624b09935ac2ce647142d8": {
      "model_module": "@jupyter-widgets/base",
      "model_module_version": "1.2.0",
      "model_name": "LayoutModel",
      "state": {
       "_model_module": "@jupyter-widgets/base",
       "_model_module_version": "1.2.0",
       "_model_name": "LayoutModel",
       "_view_count": null,
       "_view_module": "@jupyter-widgets/base",
       "_view_module_version": "1.2.0",
       "_view_name": "LayoutView",
       "align_content": null,
       "align_items": null,
       "align_self": null,
       "border": null,
       "bottom": null,
       "display": null,
       "flex": null,
       "flex_flow": null,
       "grid_area": null,
       "grid_auto_columns": null,
       "grid_auto_flow": null,
       "grid_auto_rows": null,
       "grid_column": null,
       "grid_gap": null,
       "grid_row": null,
       "grid_template_areas": null,
       "grid_template_columns": null,
       "grid_template_rows": null,
       "height": null,
       "justify_content": null,
       "justify_items": null,
       "left": null,
       "margin": null,
       "max_height": null,
       "max_width": null,
       "min_height": null,
       "min_width": null,
       "object_fit": null,
       "object_position": null,
       "order": null,
       "overflow": null,
       "overflow_x": null,
       "overflow_y": null,
       "padding": null,
       "right": null,
       "top": null,
       "visibility": null,
       "width": null
      }
     },
     "bea7e23735aa41da8bf032b122495c79": {
      "model_module": "@jupyter-widgets/base",
      "model_module_version": "1.2.0",
      "model_name": "LayoutModel",
      "state": {
       "_model_module": "@jupyter-widgets/base",
       "_model_module_version": "1.2.0",
       "_model_name": "LayoutModel",
       "_view_count": null,
       "_view_module": "@jupyter-widgets/base",
       "_view_module_version": "1.2.0",
       "_view_name": "LayoutView",
       "align_content": null,
       "align_items": null,
       "align_self": null,
       "border": null,
       "bottom": null,
       "display": null,
       "flex": null,
       "flex_flow": null,
       "grid_area": null,
       "grid_auto_columns": null,
       "grid_auto_flow": null,
       "grid_auto_rows": null,
       "grid_column": null,
       "grid_gap": null,
       "grid_row": null,
       "grid_template_areas": null,
       "grid_template_columns": null,
       "grid_template_rows": null,
       "height": null,
       "justify_content": null,
       "justify_items": null,
       "left": null,
       "margin": null,
       "max_height": null,
       "max_width": null,
       "min_height": null,
       "min_width": null,
       "object_fit": null,
       "object_position": null,
       "order": null,
       "overflow": null,
       "overflow_x": null,
       "overflow_y": null,
       "padding": null,
       "right": null,
       "top": null,
       "visibility": null,
       "width": null
      }
     },
     "c2ed24ffed0d4357b94e5180cdd738c5": {
      "model_module": "@jupyter-widgets/base",
      "model_module_version": "1.2.0",
      "model_name": "LayoutModel",
      "state": {
       "_model_module": "@jupyter-widgets/base",
       "_model_module_version": "1.2.0",
       "_model_name": "LayoutModel",
       "_view_count": null,
       "_view_module": "@jupyter-widgets/base",
       "_view_module_version": "1.2.0",
       "_view_name": "LayoutView",
       "align_content": null,
       "align_items": null,
       "align_self": null,
       "border": null,
       "bottom": null,
       "display": null,
       "flex": null,
       "flex_flow": null,
       "grid_area": null,
       "grid_auto_columns": null,
       "grid_auto_flow": null,
       "grid_auto_rows": null,
       "grid_column": null,
       "grid_gap": null,
       "grid_row": null,
       "grid_template_areas": null,
       "grid_template_columns": null,
       "grid_template_rows": null,
       "height": null,
       "justify_content": null,
       "justify_items": null,
       "left": null,
       "margin": null,
       "max_height": null,
       "max_width": null,
       "min_height": null,
       "min_width": null,
       "object_fit": null,
       "object_position": null,
       "order": null,
       "overflow": null,
       "overflow_x": null,
       "overflow_y": null,
       "padding": null,
       "right": null,
       "top": null,
       "visibility": null,
       "width": null
      }
     },
     "c65dec7ad52f47da974f46aa3538dd05": {
      "model_module": "@jupyter-widgets/controls",
      "model_module_version": "1.5.0",
      "model_name": "HBoxModel",
      "state": {
       "_dom_classes": [],
       "_model_module": "@jupyter-widgets/controls",
       "_model_module_version": "1.5.0",
       "_model_name": "HBoxModel",
       "_view_count": null,
       "_view_module": "@jupyter-widgets/controls",
       "_view_module_version": "1.5.0",
       "_view_name": "HBoxView",
       "box_style": "",
       "children": [
        "IPY_MODEL_af0fc9ccf6e44664844317ee9823babe",
        "IPY_MODEL_0b0ca252d27449b3bd0b09bbd94f83fb",
        "IPY_MODEL_5e855ff109934627b8675b264daa8402"
       ],
       "layout": "IPY_MODEL_56ce4f5197d748f3a421377ed46e2607"
      }
     },
     "cb33ccd396944958a1895a531726caf5": {
      "model_module": "@jupyter-widgets/controls",
      "model_module_version": "1.5.0",
      "model_name": "HTMLModel",
      "state": {
       "_dom_classes": [],
       "_model_module": "@jupyter-widgets/controls",
       "_model_module_version": "1.5.0",
       "_model_name": "HTMLModel",
       "_view_count": null,
       "_view_module": "@jupyter-widgets/controls",
       "_view_module_version": "1.5.0",
       "_view_name": "HTMLView",
       "description": "",
       "description_tooltip": null,
       "layout": "IPY_MODEL_5d075c5376f64160aae825a46da3a0d4",
       "placeholder": "​",
       "style": "IPY_MODEL_95ce062d55f44f179b9c76888322cf70",
       "value": "Downloading: 100%"
      }
     },
     "d15c47ddadef460882b2c95963564594": {
      "model_module": "@jupyter-widgets/controls",
      "model_module_version": "1.5.0",
      "model_name": "HTMLModel",
      "state": {
       "_dom_classes": [],
       "_model_module": "@jupyter-widgets/controls",
       "_model_module_version": "1.5.0",
       "_model_name": "HTMLModel",
       "_view_count": null,
       "_view_module": "@jupyter-widgets/controls",
       "_view_module_version": "1.5.0",
       "_view_name": "HTMLView",
       "description": "",
       "description_tooltip": null,
       "layout": "IPY_MODEL_bd2f59e19d624b09935ac2ce647142d8",
       "placeholder": "​",
       "style": "IPY_MODEL_5387db3fcba04c30ac4605b87e55e7d7",
       "value": "Downloading: 100%"
      }
     },
     "d4a7543921f34bfabcc9de0ae907a7f9": {
      "model_module": "@jupyter-widgets/base",
      "model_module_version": "1.2.0",
      "model_name": "LayoutModel",
      "state": {
       "_model_module": "@jupyter-widgets/base",
       "_model_module_version": "1.2.0",
       "_model_name": "LayoutModel",
       "_view_count": null,
       "_view_module": "@jupyter-widgets/base",
       "_view_module_version": "1.2.0",
       "_view_name": "LayoutView",
       "align_content": null,
       "align_items": null,
       "align_self": null,
       "border": null,
       "bottom": null,
       "display": null,
       "flex": null,
       "flex_flow": null,
       "grid_area": null,
       "grid_auto_columns": null,
       "grid_auto_flow": null,
       "grid_auto_rows": null,
       "grid_column": null,
       "grid_gap": null,
       "grid_row": null,
       "grid_template_areas": null,
       "grid_template_columns": null,
       "grid_template_rows": null,
       "height": null,
       "justify_content": null,
       "justify_items": null,
       "left": null,
       "margin": null,
       "max_height": null,
       "max_width": null,
       "min_height": null,
       "min_width": null,
       "object_fit": null,
       "object_position": null,
       "order": null,
       "overflow": null,
       "overflow_x": null,
       "overflow_y": null,
       "padding": null,
       "right": null,
       "top": null,
       "visibility": null,
       "width": null
      }
     },
     "e63f08111546497ba90132e10ecbebed": {
      "model_module": "@jupyter-widgets/base",
      "model_module_version": "1.2.0",
      "model_name": "LayoutModel",
      "state": {
       "_model_module": "@jupyter-widgets/base",
       "_model_module_version": "1.2.0",
       "_model_name": "LayoutModel",
       "_view_count": null,
       "_view_module": "@jupyter-widgets/base",
       "_view_module_version": "1.2.0",
       "_view_name": "LayoutView",
       "align_content": null,
       "align_items": null,
       "align_self": null,
       "border": null,
       "bottom": null,
       "display": null,
       "flex": null,
       "flex_flow": null,
       "grid_area": null,
       "grid_auto_columns": null,
       "grid_auto_flow": null,
       "grid_auto_rows": null,
       "grid_column": null,
       "grid_gap": null,
       "grid_row": null,
       "grid_template_areas": null,
       "grid_template_columns": null,
       "grid_template_rows": null,
       "height": null,
       "justify_content": null,
       "justify_items": null,
       "left": null,
       "margin": null,
       "max_height": null,
       "max_width": null,
       "min_height": null,
       "min_width": null,
       "object_fit": null,
       "object_position": null,
       "order": null,
       "overflow": null,
       "overflow_x": null,
       "overflow_y": null,
       "padding": null,
       "right": null,
       "top": null,
       "visibility": null,
       "width": null
      }
     },
     "fbb18ee83bc94a279c58b7ca4d1f366e": {
      "model_module": "@jupyter-widgets/controls",
      "model_module_version": "1.5.0",
      "model_name": "HBoxModel",
      "state": {
       "_dom_classes": [],
       "_model_module": "@jupyter-widgets/controls",
       "_model_module_version": "1.5.0",
       "_model_name": "HBoxModel",
       "_view_count": null,
       "_view_module": "@jupyter-widgets/controls",
       "_view_module_version": "1.5.0",
       "_view_name": "HBoxView",
       "box_style": "",
       "children": [
        "IPY_MODEL_0b40d1d5413642e7b0983f954ad750c3",
        "IPY_MODEL_039925d099ad40c3a4f441c7e13122fb",
        "IPY_MODEL_2a6754f4fc0d4b03b483ad20debf158d"
       ],
       "layout": "IPY_MODEL_1028faa195654953ace79db4ed3d6e77"
      }
     }
    },
    "version_major": 2,
    "version_minor": 0
   }
  }
 },
 "nbformat": 4,
 "nbformat_minor": 5
}
