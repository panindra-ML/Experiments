{
 "cells": [
  {
   "cell_type": "code",
   "execution_count": 1,
   "metadata": {},
   "outputs": [],
   "source": [
    "import numpy as np\n",
    "import pandas as pd\n",
    "import matplotlib.pyplot as plt\n",
    "import seaborn as sns\n",
    "import re"
   ]
  },
  {
   "cell_type": "code",
   "execution_count": 2,
   "metadata": {},
   "outputs": [],
   "source": [
    "df_tweet = pd.read_csv(\"train.csv\")"
   ]
  },
  {
   "cell_type": "code",
   "execution_count": 3,
   "metadata": {},
   "outputs": [
    {
     "data": {
      "text/plain": [
       "(29992, 2)"
      ]
     },
     "execution_count": 3,
     "metadata": {},
     "output_type": "execute_result"
    }
   ],
   "source": [
    "df_tweet.shape"
   ]
  },
  {
   "cell_type": "code",
   "execution_count": 4,
   "metadata": {},
   "outputs": [],
   "source": [
    "def clean_text(text):\n",
    "    text = text.lower()\n",
    "    url = \"https?://([A-z0-9_\\.\\-%\\?&=]+/)*[A-z0-9_\\.\\-%\\?&/=]+\"\n",
    "    mentions = \"@[A-z0-9_\\-\\.%]+\"\n",
    "    hashtags = \"#[A-z0-9_\\-\\.%]+\"\n",
    "    text = re.sub(url,\"\",text)\n",
    "    text = re.sub(mentions,\"\",text)\n",
    "    return text\n",
    "\n",
    "df_tweet[\"tweets\"] = df_tweet[\"tweets\"].apply(clean_text)\n",
    "\n",
    "mapper = {\n",
    "    \"Anxious\": 0,\n",
    "    \"Normal\": 1,\n",
    "    \"Stressed\": 2,\n",
    "    \"Lonely\": 3\n",
    "}\n",
    "df_tweet[\"labels\"] = df_tweet[\"labels\"].map(mapper)"
   ]
  },
  {
   "cell_type": "markdown",
   "metadata": {},
   "source": [
    "### Prepare batches"
   ]
  },
  {
   "cell_type": "code",
   "execution_count": 5,
   "metadata": {},
   "outputs": [
    {
     "name": "stderr",
     "output_type": "stream",
     "text": [
      "C:\\ProgramData\\Anaconda3\\lib\\site-packages\\seaborn\\distributions.py:2551: FutureWarning: `distplot` is a deprecated function and will be removed in a future version. Please adapt your code to use either `displot` (a figure-level function with similar flexibility) or `histplot` (an axes-level function for histograms).\n",
      "  warnings.warn(msg, FutureWarning)\n"
     ]
    },
    {
     "name": "stdout",
     "output_type": "stream",
     "text": [
      "90 th percentile is 18 words\n"
     ]
    },
    {
     "data": {
      "image/png": "[encoded data removed]",
      "text/plain": [
       "<Figure size 432x288 with 1 Axes>"
      ]
     },
     "metadata": {
      "needs_background": "light"
     },
     "output_type": "display_data"
    }
   ],
   "source": [
    "seq_lengths = df_tweet[\"tweets\"].apply(lambda x: len(x.split()))\n",
    "\n",
    "sns.distplot(seq_lengths)\n",
    "print(\"90 th percentile is %d words\"%np.quantile(seq_lengths,0.9))"
   ]
  },
  {
   "cell_type": "code",
   "execution_count": 6,
   "metadata": {},
   "outputs": [],
   "source": [
    "from tensorflow.keras import Sequential\n",
    "from sklearn.model_selection import train_test_split\n",
    "from tensorflow.keras.layers import Bidirectional, LSTM, GRU, Dense, Dropout, Embedding\n",
    "from tensorflow.keras.preprocessing.text import Tokenizer\n",
    "\n",
    "\n",
    "df_train, df_test = train_test_split(df_tweet,random_state=1,train_size=0.75)\n",
    "\n",
    "\n",
    "tc = Tokenizer()\n",
    "\n",
    "tc.fit_on_texts(list(df_train[\"tweets\"]))\n",
    "\n",
    "#### get number of batches\n",
    "def num_batches(total,batch_size):\n",
    "    if total % batch_size == 0:\n",
    "        return total // batch_size\n",
    "    else:\n",
    "        return total // batch_size + 1\n",
    "\n",
    "### pad and truncate     \n",
    "def get_sequences(text,seq_length,tokenizer=tc):\n",
    "    tokens = tokenizer.texts_to_sequences([text])\n",
    "    if len(tokens[0]) < seq_length:\n",
    "        pad = [0 for i in range(seq_length - len(tokens[0]))]\n",
    "        pad.extend(tokens[0])\n",
    "        return pad\n",
    "    else:\n",
    "        tokens = tokens[0][:seq_length]\n",
    "        \n",
    "        return tokens\n",
    "\n",
    "def generate_batches(df, text_col, label_col, seq_length, batch_size, tokenizer=tc):\n",
    "    texts = df[text_col].tolist()\n",
    "    labels = df[label_col].tolist()\n",
    "    cats = len(df[label_col].unique())\n",
    "    total = df.shape[0]\n",
    "    batches = num_batches(total,batch_size)\n",
    "    while True:\n",
    "    #tokens = np.array([get_sequences(t,seq_length,tc) for t in texts])\n",
    "        for b in range(batches):\n",
    "            if total % batch_size == 0 or b < batches - 1:\n",
    "                y_batch = np.zeros((batch_size,cats))\n",
    "                texts_batch = texts[b*batch_size: b*batch_size + batch_size]\n",
    "\n",
    "                X_batch = np.array([get_sequences(t,seq_length,tc) for t in texts_batch])\n",
    "                for i,l in enumerate(labels[b*batch_size: b*batch_size + batch_size]):\n",
    "                    y_batch[i,l] = 1\n",
    "            else:\n",
    "                y_batch = np.zeros((total % batch_size,cats))\n",
    "                texts_batch = texts[b*batch_size: ]\n",
    "\n",
    "                X_batch = np.array([get_sequences(t,seq_length,tc) for t in texts_batch])\n",
    "                for i,l in enumerate(labels[b*batch_size: b*batch_size + total % batch_size]):\n",
    "                    y_batch[i,l] = 1\n",
    "            yield X_batch,y_batch"
   ]
  },
  {
   "cell_type": "code",
   "execution_count": 7,
   "metadata": {},
   "outputs": [
    {
     "data": {
      "text/plain": [
       "19375"
      ]
     },
     "execution_count": 7,
     "metadata": {},
     "output_type": "execute_result"
    }
   ],
   "source": [
    "len(tc.word_counts)"
   ]
  },
  {
   "cell_type": "code",
   "execution_count": 8,
   "metadata": {},
   "outputs": [],
   "source": [
    "train_gen = generate_batches(df_train, \"tweets\", \"labels\", 18, 120, tokenizer=tc)\n",
    "val_gen = generate_batches(df_test, \"tweets\", \"labels\", 18, 120, tokenizer=tc)\n",
    "\n"
   ]
  },
  {
   "cell_type": "markdown",
   "metadata": {},
   "source": [
    "### building LSTM "
   ]
  },
  {
   "cell_type": "code",
   "execution_count": 45,
   "metadata": {},
   "outputs": [
    {
     "name": "stdout",
     "output_type": "stream",
     "text": [
      "Model: \"sequential_6\"\n",
      "_________________________________________________________________\n",
      " Layer (type)                Output Shape              Param #   \n",
      "=================================================================\n",
      " embedding_6 (Embedding)     (None, 18, 300)           5812800   \n",
      "                                                                 \n",
      " lstm_5 (LSTM)               (None, 256)               570368    \n",
      "                                                                 \n",
      " dropout_6 (Dropout)         (None, 256)               0         \n",
      "                                                                 \n",
      " dense_6 (Dense)             (None, 4)                 1028      \n",
      "                                                                 \n",
      "=================================================================\n",
      "Total params: 6,384,196\n",
      "Trainable params: 6,384,196\n",
      "Non-trainable params: 0\n",
      "_________________________________________________________________\n"
     ]
    }
   ],
   "source": [
    "import tensorflow as tf\n",
    "\n",
    "metrics = tf.keras.metrics.Recall()\n",
    "\n",
    "model = Sequential()\n",
    "model.add(Embedding(19376,300,input_length=18))\n",
    "model.add(LSTM(256))\n",
    "model.add(Dropout(0.1))\n",
    "model.add(Dense(4,activation=\"softmax\"))\n",
    "\n",
    "model.compile(optimizer=\"adam\",loss=\"categorical_crossentropy\",metrics=metrics)\n",
    "\n",
    "model.summary()"
   ]
  },
  {
   "cell_type": "code",
   "execution_count": 46,
   "metadata": {},
   "outputs": [
    {
     "name": "stdout",
     "output_type": "stream",
     "text": [
      "Epoch 1/8\n"
     ]
    },
    {
     "name": "stderr",
     "output_type": "stream",
     "text": [
      "<ipython-input-46-777ede5098d4>:3: UserWarning: `Model.fit_generator` is deprecated and will be removed in a future version. Please use `Model.fit`, which supports generators.\n",
      "  history = model.fit_generator(train_gen,validation_data=val_gen,steps_per_epoch=steps,validation_steps=val_steps,epochs=8)\n"
     ]
    },
    {
     "name": "stdout",
     "output_type": "stream",
     "text": [
      "63/63 [==============================] - 22s 298ms/step - loss: 1.0040 - recall_2: 0.2885 - val_loss: 0.6839 - val_recall_2: 0.5790\n",
      "Epoch 2/8\n",
      "63/63 [==============================] - 19s 303ms/step - loss: 0.6317 - recall_2: 0.6011 - val_loss: 0.5731 - val_recall_2: 0.6112\n",
      "Epoch 3/8\n",
      "63/63 [==============================] - 19s 309ms/step - loss: 0.5713 - recall_2: 0.6389 - val_loss: 0.5539 - val_recall_2: 0.6651\n",
      "Epoch 4/8\n",
      "63/63 [==============================] - 20s 325ms/step - loss: 0.4853 - recall_2: 0.6812 - val_loss: 0.5639 - val_recall_2: 0.6794\n",
      "Epoch 5/8\n",
      "63/63 [==============================] - 21s 335ms/step - loss: 0.4565 - recall_2: 0.7024 - val_loss: 0.5478 - val_recall_2: 0.6722\n",
      "Epoch 6/8\n",
      "63/63 [==============================] - 18s 284ms/step - loss: 0.4400 - recall_2: 0.7066 - val_loss: 0.5981 - val_recall_2: 0.6504\n",
      "Epoch 7/8\n",
      "63/63 [==============================] - 21s 329ms/step - loss: 0.4125 - recall_2: 0.7299 - val_loss: 0.5865 - val_recall_2: 0.6731\n",
      "Epoch 8/8\n",
      "63/63 [==============================] - 21s 330ms/step - loss: 0.3967 - recall_2: 0.7407 - val_loss: 0.6155 - val_recall_2: 0.6439\n"
     ]
    }
   ],
   "source": [
    "steps = num_batches(df_train.shape[0],120)\n",
    "val_steps = steps = num_batches(df_test.shape[0],120)\n",
    "history = model.fit_generator(train_gen,validation_data=val_gen,steps_per_epoch=steps,validation_steps=val_steps,epochs=8)"
   ]
  },
  {
   "cell_type": "code",
   "execution_count": 51,
   "metadata": {},
   "outputs": [
    {
     "data": {
      "text/plain": [
       "Text(0, 0.5, 'Accuracy')"
      ]
     },
     "execution_count": 51,
     "metadata": {},
     "output_type": "execute_result"
    },
    {
     "data": {
      "image/png": "[encoded data removed]",
      "text/plain": [
       "<Figure size 720x576 with 2 Axes>"
      ]
     },
     "metadata": {
      "needs_background": "light"
     },
     "output_type": "display_data"
    }
   ],
   "source": [
    "h = history.history\n",
    "#print(h)\n",
    "plt.figure(figsize=(10,8))\n",
    "plt.subplot(2,2,1)\n",
    "plt.plot(range(1,9),h[\"loss\"])\n",
    "plt.plot(range(1,9),h[\"val_loss\"])\n",
    "plt.xlabel(\"Epochs\")\n",
    "plt.ylabel(\"Loss\")\n",
    "plt.subplot(2,2,2)\n",
    "plt.plot(range(1,9),h[\"recall_2\"])\n",
    "plt.plot(range(1,9),h[\"val_recall_2\"])\n",
    "plt.xlabel(\"Epochs\")\n",
    "plt.ylabel(\"Accuracy\")"
   ]
  },
  {
   "cell_type": "markdown",
   "metadata": {},
   "source": [
    "### checking for 3 epochs"
   ]
  },
  {
   "cell_type": "code",
   "execution_count": 34,
   "metadata": {},
   "outputs": [
    {
     "name": "stdout",
     "output_type": "stream",
     "text": [
      "Epoch 1/3\n"
     ]
    },
    {
     "name": "stderr",
     "output_type": "stream",
     "text": [
      "<ipython-input-34-632cfc1472bf>:3: UserWarning: `Model.fit_generator` is deprecated and will be removed in a future version. Please use `Model.fit`, which supports generators.\n",
      "  history = model.fit_generator(train_gen,validation_data=val_gen,steps_per_epoch=steps,validation_steps=val_steps,epochs=3)\n"
     ]
    },
    {
     "name": "stdout",
     "output_type": "stream",
     "text": [
      "63/63 [==============================] - 15s 185ms/step - loss: 1.0259 - categorical_accuracy: 0.5329 - val_loss: 0.6777 - val_categorical_accuracy: 0.6707\n",
      "Epoch 2/3\n",
      "63/63 [==============================] - 10s 165ms/step - loss: 0.6240 - categorical_accuracy: 0.6937 - val_loss: 0.5760 - val_categorical_accuracy: 0.7082\n",
      "Epoch 3/3\n",
      "63/63 [==============================] - 11s 175ms/step - loss: 0.5584 - categorical_accuracy: 0.7044 - val_loss: 0.5543 - val_categorical_accuracy: 0.7170\n"
     ]
    }
   ],
   "source": [
    "# steps = num_batches(df_train.shape[0],120)\n",
    "# val_steps = steps = num_batches(df_test.shape[0],120)\n",
    "# history = model.fit_generator(train_gen,validation_data=val_gen,steps_per_epoch=steps,validation_steps=val_steps,epochs=3)"
   ]
  },
  {
   "cell_type": "code",
   "execution_count": 52,
   "metadata": {},
   "outputs": [
    {
     "name": "stdout",
     "output_type": "stream",
     "text": [
      "235/235 [==============================] - 9s 35ms/step\n"
     ]
    }
   ],
   "source": [
    "test_data = np.asarray(list(df_test[\"tweets\"].apply(lambda x: get_sequences(x,18,tc))))\n",
    "predictions = model.predict(test_data)\n",
    "predictions = np.argmax(predictions,axis=1)"
   ]
  },
  {
   "cell_type": "code",
   "execution_count": 53,
   "metadata": {},
   "outputs": [
    {
     "data": {
      "text/plain": [
       "array([[1244,  135,   33,  687],\n",
       "       [  74, 1855,   33,    6],\n",
       "       [  52,   66, 1608,    4],\n",
       "       [1182,   80,   11,  428]], dtype=int64)"
      ]
     },
     "execution_count": 53,
     "metadata": {},
     "output_type": "execute_result"
    }
   ],
   "source": [
    "from sklearn.metrics import confusion_matrix, classification_report\n",
    "cf = confusion_matrix(df_test[\"labels\"],predictions)\n",
    "cf"
   ]
  },
  {
   "cell_type": "code",
   "execution_count": 54,
   "metadata": {},
   "outputs": [
    {
     "name": "stdout",
     "output_type": "stream",
     "text": [
      "              precision    recall  f1-score   support\n",
      "\n",
      "           0       0.49      0.59      0.53      2099\n",
      "           1       0.87      0.94      0.90      1968\n",
      "           2       0.95      0.93      0.94      1730\n",
      "           3       0.38      0.25      0.30      1701\n",
      "\n",
      "    accuracy                           0.68      7498\n",
      "   macro avg       0.67      0.68      0.67      7498\n",
      "weighted avg       0.67      0.68      0.67      7498\n",
      "\n"
     ]
    }
   ],
   "source": [
    "print(classification_report(df_test[\"labels\"],predictions))"
   ]
  },
  {
   "cell_type": "markdown",
   "metadata": {},
   "source": [
    "### Lets try bidirectional LSTM"
   ]
  },
  {
   "cell_type": "code",
   "execution_count": 61,
   "metadata": {},
   "outputs": [
    {
     "name": "stdout",
     "output_type": "stream",
     "text": [
      "Model: \"sequential_10\"\n",
      "_________________________________________________________________\n",
      " Layer (type)                Output Shape              Param #   \n",
      "=================================================================\n",
      " embedding_10 (Embedding)    (None, 18, 300)           5812800   \n",
      "                                                                 \n",
      " bidirectional_4 (Bidirectio  (None, 512)              1140736   \n",
      " nal)                                                            \n",
      "                                                                 \n",
      " dropout_10 (Dropout)        (None, 512)               0         \n",
      "                                                                 \n",
      " dense_10 (Dense)            (None, 4)                 2052      \n",
      "                                                                 \n",
      "=================================================================\n",
      "Total params: 6,955,588\n",
      "Trainable params: 6,955,588\n",
      "Non-trainable params: 0\n",
      "_________________________________________________________________\n"
     ]
    }
   ],
   "source": [
    "model = Sequential()\n",
    "model.add(Embedding(19376,300,input_length=18))\n",
    "model.add(Bidirectional(LSTM(256)))\n",
    "model.add(Dropout(0.1))\n",
    "model.add(Dense(4,activation=\"softmax\"))\n",
    "\n",
    "model.compile(optimizer=\"adam\",loss=\"categorical_crossentropy\",metrics=\"Recall\")\n",
    "\n",
    "model.summary()"
   ]
  },
  {
   "cell_type": "code",
   "execution_count": 62,
   "metadata": {},
   "outputs": [
    {
     "name": "stdout",
     "output_type": "stream",
     "text": [
      "Epoch 1/7\n"
     ]
    },
    {
     "name": "stderr",
     "output_type": "stream",
     "text": [
      "<ipython-input-62-e375df418c4f>:3: UserWarning: `Model.fit_generator` is deprecated and will be removed in a future version. Please use `Model.fit`, which supports generators.\n",
      "  history = model.fit_generator(train_gen,validation_data=val_gen,steps_per_epoch=steps,validation_steps=val_steps,epochs=7)\n"
     ]
    },
    {
     "name": "stdout",
     "output_type": "stream",
     "text": [
      "63/63 [==============================] - 47s 659ms/step - loss: 0.9644 - recall: 0.3349 - val_loss: 0.6342 - val_recall: 0.6324\n",
      "Epoch 2/7\n",
      "63/63 [==============================] - 35s 553ms/step - loss: 0.6227 - recall: 0.6172 - val_loss: 0.5812 - val_recall: 0.5316\n",
      "Epoch 3/7\n",
      "63/63 [==============================] - 33s 522ms/step - loss: 0.5716 - recall: 0.6409 - val_loss: 0.5594 - val_recall: 0.6511\n",
      "Epoch 4/7\n",
      "63/63 [==============================] - 35s 554ms/step - loss: 0.4807 - recall: 0.6890 - val_loss: 0.5515 - val_recall: 0.6579\n",
      "Epoch 5/7\n",
      "63/63 [==============================] - 33s 522ms/step - loss: 0.4554 - recall: 0.7091 - val_loss: 0.5868 - val_recall: 0.6299\n",
      "Epoch 6/7\n",
      "63/63 [==============================] - 35s 563ms/step - loss: 0.4414 - recall: 0.7119 - val_loss: 0.5774 - val_recall: 0.6226\n",
      "Epoch 7/7\n",
      "63/63 [==============================] - 35s 557ms/step - loss: 0.4102 - recall: 0.7295 - val_loss: 0.5859 - val_recall: 0.6566\n"
     ]
    }
   ],
   "source": [
    "steps = num_batches(df_train.shape[0],120)\n",
    "val_steps = steps = num_batches(df_test.shape[0],120)\n",
    "history = model.fit_generator(train_gen,validation_data=val_gen,steps_per_epoch=steps,validation_steps=val_steps,epochs=7)"
   ]
  },
  {
   "cell_type": "code",
   "execution_count": 67,
   "metadata": {},
   "outputs": [
    {
     "name": "stdout",
     "output_type": "stream",
     "text": [
      "{'loss': [0.9643626809120178, 0.6226750612258911, 0.5715773701667786, 0.480715274810791, 0.4553571939468384, 0.44139188528060913, 0.4101586639881134], 'recall': [0.33493462204933167, 0.6171957850456238, 0.6408730149269104, 0.6889511346817017, 0.7091270089149475, 0.711904764175415, 0.7295169234275818], 'val_loss': [0.6342123746871948, 0.5812336802482605, 0.5593910217285156, 0.5514724254608154, 0.5868409276008606, 0.5773736238479614, 0.5859479308128357], 'val_recall': [0.6324353218078613, 0.5316084027290344, 0.6511069536209106, 0.6579087972640991, 0.6299012899398804, 0.6225660443305969, 0.656575083732605]}\n"
     ]
    },
    {
     "data": {
      "text/plain": [
       "Text(0, 0.5, 'Accuracy')"
      ]
     },
     "execution_count": 67,
     "metadata": {},
     "output_type": "execute_result"
    },
    {
     "data": {
      "image/png": "[encoded data removed]",
      "text/plain": [
       "<Figure size 720x576 with 2 Axes>"
      ]
     },
     "metadata": {
      "needs_background": "light"
     },
     "output_type": "display_data"
    }
   ],
   "source": [
    "h = history.history\n",
    "print(h)\n",
    "plt.figure(figsize=(10,8))\n",
    "plt.subplot(2,2,1)\n",
    "plt.plot(range(1,8),h[\"loss\"])\n",
    "plt.plot(range(1,8),h[\"val_loss\"])\n",
    "plt.xlabel(\"Epochs\")\n",
    "plt.ylabel(\"Loss\")\n",
    "plt.subplot(2,2,2)\n",
    "plt.plot(range(1,8),h[\"recall\"])\n",
    "plt.plot(range(1,8),h[\"val_recall\"])\n",
    "plt.xlabel(\"Epochs\")\n",
    "plt.ylabel(\"Accuracy\")"
   ]
  },
  {
   "cell_type": "code",
   "execution_count": 68,
   "metadata": {},
   "outputs": [],
   "source": [
    "# steps = num_batches(df_train.shape[0],120)\n",
    "# val_steps = steps = num_batches(df_test.shape[0],120)\n",
    "# history = model.fit_generator(train_gen,validation_data=val_gen,steps_per_epoch=steps,validation_steps=val_steps,epochs=3)"
   ]
  },
  {
   "cell_type": "markdown",
   "metadata": {},
   "source": [
    "### Evaluate BiLSTM"
   ]
  },
  {
   "cell_type": "code",
   "execution_count": 69,
   "metadata": {},
   "outputs": [
    {
     "name": "stdout",
     "output_type": "stream",
     "text": [
      "235/235 [==============================] - 18s 66ms/step\n"
     ]
    },
    {
     "data": {
      "text/plain": [
       "array([[1434,   51,   29,  585],\n",
       "       [ 107, 1712,   33,  116],\n",
       "       [  56,   48, 1615,   11],\n",
       "       [1281,   19,    9,  392]], dtype=int64)"
      ]
     },
     "execution_count": 69,
     "metadata": {},
     "output_type": "execute_result"
    }
   ],
   "source": [
    "predictions = model.predict(test_data)\n",
    "predictions = np.argmax(predictions,axis=1)\n",
    "cf = confusion_matrix(df_test[\"labels\"],predictions)\n",
    "cf"
   ]
  },
  {
   "cell_type": "code",
   "execution_count": 71,
   "metadata": {},
   "outputs": [
    {
     "name": "stdout",
     "output_type": "stream",
     "text": [
      "              precision    recall  f1-score   support\n",
      "\n",
      "           0       0.50      0.68      0.58      2099\n",
      "           1       0.94      0.87      0.90      1968\n",
      "           2       0.96      0.93      0.95      1730\n",
      "           3       0.36      0.23      0.28      1701\n",
      "\n",
      "    accuracy                           0.69      7498\n",
      "   macro avg       0.69      0.68      0.68      7498\n",
      "weighted avg       0.69      0.69      0.68      7498\n",
      "\n"
     ]
    }
   ],
   "source": [
    "print(classification_report(df_test[\"labels\"],predictions))"
   ]
  },
  {
   "cell_type": "markdown",
   "metadata": {},
   "source": [
    "### Let us check GRU"
   ]
  },
  {
   "cell_type": "code",
   "execution_count": 93,
   "metadata": {},
   "outputs": [
    {
     "name": "stdout",
     "output_type": "stream",
     "text": [
      "Model: \"sequential_15\"\n",
      "_________________________________________________________________\n",
      " Layer (type)                Output Shape              Param #   \n",
      "=================================================================\n",
      " embedding_15 (Embedding)    (None, 18, 300)           5812800   \n",
      "                                                                 \n",
      " gru_5 (GRU)                 (None, 256)               428544    \n",
      "                                                                 \n",
      " dropout_15 (Dropout)        (None, 256)               0         \n",
      "                                                                 \n",
      " dense_15 (Dense)            (None, 4)                 1028      \n",
      "                                                                 \n",
      "=================================================================\n",
      "Total params: 6,242,372\n",
      "Trainable params: 6,242,372\n",
      "Non-trainable params: 0\n",
      "_________________________________________________________________\n"
     ]
    }
   ],
   "source": [
    "model = Sequential()\n",
    "model.add(Embedding(19376,300,input_length=18))\n",
    "model.add(GRU(256))\n",
    "model.add(Dropout(0.1))\n",
    "model.add(Dense(4,activation=\"softmax\"))\n",
    "\n",
    "model.compile(optimizer=\"adam\",loss=\"categorical_crossentropy\",metrics=\"Recall\")\n",
    "\n",
    "model.summary()"
   ]
  },
  {
   "cell_type": "code",
   "execution_count": 94,
   "metadata": {},
   "outputs": [
    {
     "name": "stdout",
     "output_type": "stream",
     "text": [
      "Epoch 1/8\n"
     ]
    },
    {
     "name": "stderr",
     "output_type": "stream",
     "text": [
      "<ipython-input-94-c3729c0d34da>:1: UserWarning: `Model.fit_generator` is deprecated and will be removed in a future version. Please use `Model.fit`, which supports generators.\n",
      "  history = model.fit_generator(train_gen,steps_per_epoch=steps,validation_data=val_gen,validation_steps=val_steps,epochs=8)\n"
     ]
    },
    {
     "name": "stdout",
     "output_type": "stream",
     "text": [
      "63/63 [==============================] - 22s 290ms/step - loss: 0.9586 - recall: 0.3336 - val_loss: 0.6376 - val_recall: 0.6362\n",
      "Epoch 2/8\n",
      "63/63 [==============================] - 20s 320ms/step - loss: 0.6045 - recall: 0.6326 - val_loss: 0.5825 - val_recall: 0.6124\n",
      "Epoch 3/8\n",
      "63/63 [==============================] - 21s 339ms/step - loss: 0.5835 - recall: 0.6434 - val_loss: 0.5613 - val_recall: 0.6754\n",
      "Epoch 4/8\n",
      "63/63 [==============================] - 24s 383ms/step - loss: 0.4914 - recall: 0.6828 - val_loss: 0.5646 - val_recall: 0.6715\n",
      "Epoch 5/8\n",
      "63/63 [==============================] - 22s 348ms/step - loss: 0.4490 - recall: 0.7134 - val_loss: 0.5593 - val_recall: 0.6426\n",
      "Epoch 6/8\n",
      "63/63 [==============================] - 21s 332ms/step - loss: 0.4482 - recall: 0.7205 - val_loss: 0.5730 - val_recall: 0.6923\n",
      "Epoch 7/8\n",
      "63/63 [==============================] - 20s 311ms/step - loss: 0.4251 - recall: 0.7296 - val_loss: 0.5826 - val_recall: 0.6675\n",
      "Epoch 8/8\n",
      "63/63 [==============================] - 20s 319ms/step - loss: 0.3892 - recall: 0.7702 - val_loss: 0.6450 - val_recall: 0.6546\n"
     ]
    }
   ],
   "source": [
    "history = model.fit_generator(train_gen,steps_per_epoch=steps,validation_data=val_gen,validation_steps=val_steps,epochs=8)"
   ]
  },
  {
   "cell_type": "code",
   "execution_count": 95,
   "metadata": {},
   "outputs": [
    {
     "data": {
      "text/plain": [
       "Text(0, 0.5, 'categorical accuracy')"
      ]
     },
     "execution_count": 95,
     "metadata": {},
     "output_type": "execute_result"
    },
    {
     "data": {
      "image/png": "[encoded data removed]",
      "text/plain": [
       "<Figure size 720x432 with 2 Axes>"
      ]
     },
     "metadata": {
      "needs_background": "light"
     },
     "output_type": "display_data"
    }
   ],
   "source": [
    "h = history.history\n",
    "plt.figure(figsize=(10,6))\n",
    "epochs = [i for i in range(1,9)]\n",
    "plt.subplot(1,2,1)\n",
    "plt.plot(epochs,h[\"loss\"])\n",
    "plt.plot(epochs,h[\"val_loss\"])\n",
    "plt.xlabel('epochs')\n",
    "plt.ylabel('loss')\n",
    "\n",
    "plt.subplot(1,2,2)\n",
    "plt.plot(epochs,h[\"recall\"])\n",
    "plt.plot(epochs,h[\"val_recall\"])\n",
    "plt.xlabel('epochs')\n",
    "plt.ylabel('categorical accuracy')"
   ]
  },
  {
   "cell_type": "code",
   "execution_count": 96,
   "metadata": {},
   "outputs": [
    {
     "name": "stdout",
     "output_type": "stream",
     "text": [
      "235/235 [==============================] - 6s 25ms/step\n"
     ]
    },
    {
     "data": {
      "text/plain": [
       "array([[ 835,   58,   32, 1174],\n",
       "       [  81, 1695,  128,   64],\n",
       "       [  47,   42, 1629,   12],\n",
       "       [ 785,   26,   11,  879]], dtype=int64)"
      ]
     },
     "execution_count": 96,
     "metadata": {},
     "output_type": "execute_result"
    }
   ],
   "source": [
    "predictions = model.predict(test_data)\n",
    "y_test_pred = np.argmax(predictions,axis=1)\n",
    "cf = confusion_matrix(df_test[\"labels\"],y_test_pred)\n",
    "cf"
   ]
  },
  {
   "cell_type": "code",
   "execution_count": 97,
   "metadata": {},
   "outputs": [
    {
     "name": "stdout",
     "output_type": "stream",
     "text": [
      "              precision    recall  f1-score   support\n",
      "\n",
      "           0       0.48      0.40      0.43      2099\n",
      "           1       0.93      0.86      0.89      1968\n",
      "           2       0.91      0.94      0.92      1730\n",
      "           3       0.41      0.52      0.46      1701\n",
      "\n",
      "    accuracy                           0.67      7498\n",
      "   macro avg       0.68      0.68      0.68      7498\n",
      "weighted avg       0.68      0.67      0.67      7498\n",
      "\n"
     ]
    }
   ],
   "source": [
    "print(classification_report(df_test[\"labels\"],y_test_pred))"
   ]
  },
  {
   "cell_type": "code",
   "execution_count": 98,
   "metadata": {},
   "outputs": [
    {
     "name": "stdout",
     "output_type": "stream",
     "text": [
      "Model: \"sequential_16\"\n",
      "_________________________________________________________________\n",
      " Layer (type)                Output Shape              Param #   \n",
      "=================================================================\n",
      " embedding_16 (Embedding)    (None, 18, 300)           5812800   \n",
      "                                                                 \n",
      " bidirectional_5 (Bidirectio  (None, 512)              857088    \n",
      " nal)                                                            \n",
      "                                                                 \n",
      " dropout_16 (Dropout)        (None, 512)               0         \n",
      "                                                                 \n",
      " dense_16 (Dense)            (None, 4)                 2052      \n",
      "                                                                 \n",
      "=================================================================\n",
      "Total params: 6,671,940\n",
      "Trainable params: 6,671,940\n",
      "Non-trainable params: 0\n",
      "_________________________________________________________________\n"
     ]
    }
   ],
   "source": [
    "model = Sequential()\n",
    "model.add(Embedding(19376,300,input_length=18))\n",
    "model.add(Bidirectional(GRU(256)))\n",
    "model.add(Dropout(0.1))\n",
    "model.add(Dense(4,activation=\"softmax\"))\n",
    "\n",
    "model.compile(optimizer=\"adam\",loss=\"categorical_crossentropy\",metrics=\"Recall\")\n",
    "\n",
    "model.summary()"
   ]
  },
  {
   "cell_type": "code",
   "execution_count": 99,
   "metadata": {},
   "outputs": [
    {
     "name": "stdout",
     "output_type": "stream",
     "text": [
      "Epoch 1/8\n"
     ]
    },
    {
     "name": "stderr",
     "output_type": "stream",
     "text": [
      "<ipython-input-99-c3729c0d34da>:1: UserWarning: `Model.fit_generator` is deprecated and will be removed in a future version. Please use `Model.fit`, which supports generators.\n",
      "  history = model.fit_generator(train_gen,steps_per_epoch=steps,validation_data=val_gen,validation_steps=val_steps,epochs=8)\n"
     ]
    },
    {
     "name": "stdout",
     "output_type": "stream",
     "text": [
      "63/63 [==============================] - 41s 555ms/step - loss: 0.9824 - recall: 0.3082 - val_loss: 0.6342 - val_recall: 0.5818\n",
      "Epoch 2/8\n",
      "63/63 [==============================] - 34s 538ms/step - loss: 0.6069 - recall: 0.6251 - val_loss: 0.5745 - val_recall: 0.6238\n",
      "Epoch 3/8\n",
      "63/63 [==============================] - 33s 524ms/step - loss: 0.5510 - recall: 0.6425 - val_loss: 0.5485 - val_recall: 0.6572\n",
      "Epoch 4/8\n",
      "63/63 [==============================] - 34s 534ms/step - loss: 0.4897 - recall: 0.6923 - val_loss: 0.5481 - val_recall: 0.6451\n",
      "Epoch 5/8\n",
      "63/63 [==============================] - 33s 530ms/step - loss: 0.4587 - recall: 0.7134 - val_loss: 0.5616 - val_recall: 0.6330\n",
      "Epoch 6/8\n",
      "63/63 [==============================] - 34s 544ms/step - loss: 0.4464 - recall: 0.6984 - val_loss: 0.5518 - val_recall: 0.6623\n",
      "Epoch 7/8\n",
      "63/63 [==============================] - 33s 532ms/step - loss: 0.4144 - recall: 0.7446 - val_loss: 0.5776 - val_recall: 0.6435\n",
      "Epoch 8/8\n",
      "63/63 [==============================] - 39s 620ms/step - loss: 0.4024 - recall: 0.7601 - val_loss: 0.5961 - val_recall: 0.6572\n"
     ]
    }
   ],
   "source": [
    "history = model.fit_generator(train_gen,steps_per_epoch=steps,validation_data=val_gen,validation_steps=val_steps,epochs=8)"
   ]
  },
  {
   "cell_type": "code",
   "execution_count": 100,
   "metadata": {},
   "outputs": [
    {
     "data": {
      "text/plain": [
       "Text(0, 0.5, 'categorical accuracy')"
      ]
     },
     "execution_count": 100,
     "metadata": {},
     "output_type": "execute_result"
    },
    {
     "data": {
      "image/png": "[encoded data removed]",
      "text/plain": [
       "<Figure size 720x432 with 2 Axes>"
      ]
     },
     "metadata": {
      "needs_background": "light"
     },
     "output_type": "display_data"
    }
   ],
   "source": [
    "h = history.history\n",
    "plt.figure(figsize=(10,6))\n",
    "epochs = [i for i in range(1,9)]\n",
    "plt.subplot(1,2,1)\n",
    "plt.plot(epochs,h[\"loss\"])\n",
    "plt.plot(epochs,h[\"val_loss\"])\n",
    "plt.xlabel('epochs')\n",
    "plt.ylabel('loss')\n",
    "\n",
    "plt.subplot(1,2,2)\n",
    "plt.plot(epochs,h[\"recall\"])\n",
    "plt.plot(epochs,h[\"val_recall\"])\n",
    "plt.xlabel('epochs')\n",
    "plt.ylabel('categorical accuracy')"
   ]
  },
  {
   "cell_type": "code",
   "execution_count": 101,
   "metadata": {},
   "outputs": [
    {
     "name": "stdout",
     "output_type": "stream",
     "text": [
      "235/235 [==============================] - 11s 43ms/step\n"
     ]
    },
    {
     "data": {
      "text/plain": [
       "array([[ 693,   73,   24, 1309],\n",
       "       [  80, 1810,   21,   57],\n",
       "       [  47,   76, 1587,   20],\n",
       "       [ 654,   26,    7, 1014]], dtype=int64)"
      ]
     },
     "execution_count": 101,
     "metadata": {},
     "output_type": "execute_result"
    }
   ],
   "source": [
    "predictions = model.predict(test_data)\n",
    "y_test_pred = np.argmax(predictions,axis=1)\n",
    "cf = confusion_matrix(df_test[\"labels\"],y_test_pred)\n",
    "cf"
   ]
  },
  {
   "cell_type": "code",
   "execution_count": 102,
   "metadata": {},
   "outputs": [
    {
     "name": "stdout",
     "output_type": "stream",
     "text": [
      "              precision    recall  f1-score   support\n",
      "\n",
      "           0       0.47      0.33      0.39      2099\n",
      "           1       0.91      0.92      0.92      1968\n",
      "           2       0.97      0.92      0.94      1730\n",
      "           3       0.42      0.60      0.49      1701\n",
      "\n",
      "    accuracy                           0.68      7498\n",
      "   macro avg       0.69      0.69      0.69      7498\n",
      "weighted avg       0.69      0.68      0.68      7498\n",
      "\n"
     ]
    }
   ],
   "source": [
    "print(classification_report(df_test[\"labels\"],y_test_pred))"
   ]
  },
  {
   "cell_type": "code",
   "execution_count": null,
   "metadata": {},
   "outputs": [],
   "source": []
  }
 ],
 "metadata": {
  "kernelspec": {
   "display_name": "Python 3",
   "language": "python",
   "name": "python3"
  },
  "language_info": {
   "codemirror_mode": {
    "name": "ipython",
    "version": 3
   },
   "file_extension": ".py",
   "mimetype": "text/x-python",
   "name": "python",
   "nbconvert_exporter": "python",
   "pygments_lexer": "ipython3",
   "version": "3.8.5"
  }
 },
 "nbformat": 4,
 "nbformat_minor": 4
}
