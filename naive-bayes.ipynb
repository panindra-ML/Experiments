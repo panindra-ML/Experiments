{
 "cells": [
  {
   "cell_type": "code",
   "execution_count": 14,
   "metadata": {},
   "outputs": [],
   "source": [
    "import numpy as np\n",
    "import pandas as pd\n",
    "import matplotlib.pyplot as plt\n",
    "import seaborn as sns\n",
    "import nltk\n",
    "from nltk.tokenize import word_tokenize\n",
    "from nltk.stem import SnowballStemmer\n",
    "import re"
   ]
  },
  {
   "cell_type": "code",
   "execution_count": 15,
   "metadata": {},
   "outputs": [
    {
     "data": {
      "text/plain": [
       "(29992, 2)"
      ]
     },
     "execution_count": 15,
     "metadata": {},
     "output_type": "execute_result"
    }
   ],
   "source": [
    "df_tweet = pd.read_csv(\"train.csv\")\n",
    "df_tweet.shape"
   ]
  },
  {
   "cell_type": "code",
   "execution_count": 16,
   "metadata": {},
   "outputs": [
    {
     "data": {
      "text/plain": [
       "Index(['tweets', 'labels'], dtype='object')"
      ]
     },
     "execution_count": 16,
     "metadata": {},
     "output_type": "execute_result"
    }
   ],
   "source": [
    "df_tweet.columns"
   ]
  },
  {
   "cell_type": "code",
   "execution_count": 17,
   "metadata": {},
   "outputs": [],
   "source": [
    "from nltk.corpus import stopwords\n",
    "\n",
    "def process_text(text):\n",
    "    text = text.lower()\n",
    "    url = \"https?://([A-z0-9_\\.%\\-\\?&=]+/)*[A-z0-9_\\.%\\-\\?&=]+\"\n",
    "    hashtags = \"#[A-z0-9_\\.\\-%]{1,}\"\n",
    "    mentions = \"@[A-z0-9_\\.\\-%]+\"\n",
    "    \n",
    "    \n",
    "    sw = stopwords.words(\"english\")\n",
    "    #### Now lets remove the patterns\n",
    "    text = re.sub(url,\"\",text)\n",
    "    text = re.sub(hashtags,\"\",text)\n",
    "    text = re.sub(mentions,\"\",text)\n",
    "    \n",
    "    #### tokenize sentence\n",
    "    words = word_tokenize(text)\n",
    "    st = SnowballStemmer(\"english\")\n",
    "    stemmed = [st.stem(w) for w in words]\n",
    "    final = [w for w in stemmed if w not in sw]\n",
    "    text = \" \".join(final)\n",
    "    return text\n",
    "\n",
    "\n",
    "\n",
    "df_tweet[\"tweets\"] = df_tweet[\"tweets\"].apply(process_text)"
   ]
  },
  {
   "cell_type": "code",
   "execution_count": 25,
   "metadata": {},
   "outputs": [],
   "source": [
    "mapper = {\n",
    "    \"Anxious\": 0,\n",
    "    \"Normal\": 1,\n",
    "    \"Stressed\": 2,\n",
    "    \"Lonely\": 3\n",
    "}\n",
    "\n",
    "df_tweet[\"labels\"] = df_tweet[\"labels\"].map(mapper)"
   ]
  },
  {
   "cell_type": "code",
   "execution_count": 28,
   "metadata": {},
   "outputs": [],
   "source": [
    "from sklearn.model_selection import train_test_split\n",
    "from sklearn.naive_bayes import MultinomialNB\n",
    "from sklearn.feature_extraction.text import CountVectorizer, TfidfVectorizer"
   ]
  },
  {
   "cell_type": "code",
   "execution_count": 30,
   "metadata": {},
   "outputs": [],
   "source": [
    "vc = CountVectorizer()\n",
    "tc = TfidfVectorizer()\n",
    "\n",
    "### train_test split\n",
    "df_train, df_test = train_test_split(df_tweet,train_size=0.75,random_state=3)\n",
    "\n",
    "X_train_cv = vc.fit_transform(df_train[\"tweets\"])\n",
    "X_train_tf = tc.fit_transform(df_train[\"tweets\"])\n",
    "y_train = df_train[\"labels\"]\n",
    "y_test = df_test[\"labels\"]"
   ]
  },
  {
   "cell_type": "markdown",
   "metadata": {},
   "source": [
    "### Fitting the model"
   ]
  },
  {
   "cell_type": "code",
   "execution_count": 41,
   "metadata": {},
   "outputs": [],
   "source": [
    "nb_cv = MultinomialNB()\n",
    "nb_tf = MultinomialNB()\n",
    "\n",
    "nb_cv = nb_cv.fit(X_train_cv,y_train)\n",
    "nb_tf = nb_tf.fit(X_train_tf,y_train)"
   ]
  },
  {
   "cell_type": "markdown",
   "metadata": {},
   "source": [
    "### Predicting the model on train data count vectorizer"
   ]
  },
  {
   "cell_type": "code",
   "execution_count": 45,
   "metadata": {},
   "outputs": [
    {
     "name": "stdout",
     "output_type": "stream",
     "text": [
      "[[4365   94   84 1733]\n",
      " [1056 4353  404  206]\n",
      " [ 216   94 4821   26]\n",
      " [2395   87   63 2497]]\n",
      "              precision    recall  f1-score   support\n",
      "\n",
      "           0       0.54      0.70      0.61      6276\n",
      "           1       0.94      0.72      0.82      6019\n",
      "           2       0.90      0.93      0.92      5157\n",
      "           3       0.56      0.50      0.53      5042\n",
      "\n",
      "    accuracy                           0.71     22494\n",
      "   macro avg       0.74      0.71      0.72     22494\n",
      "weighted avg       0.73      0.71      0.72     22494\n",
      "\n"
     ]
    }
   ],
   "source": [
    "from sklearn.metrics import confusion_matrix,classification_report\n",
    "y_train_pred_cv  = nb_cv.predict(X_train_cv)\n",
    "cf = confusion_matrix(y_train,y_train_pred_cv)\n",
    "print(cf)\n",
    "print(classification_report(y_train,y_train_pred_cv))"
   ]
  },
  {
   "cell_type": "markdown",
   "metadata": {},
   "source": [
    "### test prediction count vectorizer"
   ]
  },
  {
   "cell_type": "code",
   "execution_count": 48,
   "metadata": {},
   "outputs": [
    {
     "name": "stdout",
     "output_type": "stream",
     "text": [
      "[[1122   61   34  895]\n",
      " [ 555 1050  226  126]\n",
      " [ 136   63 1466   18]\n",
      " [1167   38   26  515]]\n",
      "              precision    recall  f1-score   support\n",
      "\n",
      "           0       0.38      0.53      0.44      2112\n",
      "           1       0.87      0.54      0.66      1957\n",
      "           2       0.84      0.87      0.85      1683\n",
      "           3       0.33      0.29      0.31      1746\n",
      "\n",
      "    accuracy                           0.55      7498\n",
      "   macro avg       0.60      0.56      0.57      7498\n",
      "weighted avg       0.60      0.55      0.56      7498\n",
      "\n"
     ]
    }
   ],
   "source": [
    "X_test_cv = vc.transform(df_test[\"tweets\"])\n",
    "y_test_pred_cv  = nb_cv.predict(X_test_cv)\n",
    "cf = confusion_matrix(y_test,y_test_pred_cv)\n",
    "print(cf)\n",
    "print(classification_report(y_test,y_test_pred_cv))"
   ]
  },
  {
   "cell_type": "markdown",
   "metadata": {},
   "source": [
    "### Predicting the model on train data TfiDf vectorizer"
   ]
  },
  {
   "cell_type": "code",
   "execution_count": 50,
   "metadata": {},
   "outputs": [
    {
     "name": "stdout",
     "output_type": "stream",
     "text": [
      "[[5152   47   86  991]\n",
      " [1701 3757  436  125]\n",
      " [ 393   72 4678   14]\n",
      " [3364   48   61 1569]]\n",
      "              precision    recall  f1-score   support\n",
      "\n",
      "           0       0.49      0.82      0.61      6276\n",
      "           1       0.96      0.62      0.76      6019\n",
      "           2       0.89      0.91      0.90      5157\n",
      "           3       0.58      0.31      0.41      5042\n",
      "\n",
      "    accuracy                           0.67     22494\n",
      "   macro avg       0.73      0.67      0.67     22494\n",
      "weighted avg       0.73      0.67      0.67     22494\n",
      "\n"
     ]
    }
   ],
   "source": [
    "y_train_pred_cv  = nb_tf.predict(X_train_cv)\n",
    "cf = confusion_matrix(y_train,y_train_pred_cv)\n",
    "print(cf)\n",
    "print(classification_report(y_train,y_train_pred_cv))"
   ]
  },
  {
   "cell_type": "code",
   "execution_count": 52,
   "metadata": {},
   "outputs": [
    {
     "name": "stdout",
     "output_type": "stream",
     "text": [
      "[[1442   83   44  543]\n",
      " [ 745  991  181   40]\n",
      " [ 249   82 1344    8]\n",
      " [1420   55   29  242]]\n",
      "              precision    recall  f1-score   support\n",
      "\n",
      "           0       0.37      0.68      0.48      2112\n",
      "           1       0.82      0.51      0.63      1957\n",
      "           2       0.84      0.80      0.82      1683\n",
      "           3       0.29      0.14      0.19      1746\n",
      "\n",
      "    accuracy                           0.54      7498\n",
      "   macro avg       0.58      0.53      0.53      7498\n",
      "weighted avg       0.58      0.54      0.53      7498\n",
      "\n"
     ]
    }
   ],
   "source": [
    "X_test_tf = tc.transform(df_test[\"tweets\"])\n",
    "y_test_pred_tf  = nb_tf.predict(X_test_tf)\n",
    "cf = confusion_matrix(y_test,y_test_pred_tf)\n",
    "print(cf)\n",
    "print(classification_report(y_test,y_test_pred_tf))"
   ]
  },
  {
   "cell_type": "code",
   "execution_count": null,
   "metadata": {},
   "outputs": [],
   "source": []
  }
 ],
 "metadata": {
  "kernelspec": {
   "display_name": "Python 3",
   "language": "python",
   "name": "python3"
  },
  "language_info": {
   "codemirror_mode": {
    "name": "ipython",
    "version": 3
   },
   "file_extension": ".py",
   "mimetype": "text/x-python",
   "name": "python",
   "nbconvert_exporter": "python",
   "pygments_lexer": "ipython3",
   "version": "3.8.5"
  }
 },
 "nbformat": 4,
 "nbformat_minor": 4
}
